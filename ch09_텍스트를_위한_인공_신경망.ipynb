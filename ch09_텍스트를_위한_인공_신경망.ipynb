{
  "nbformat": 4,
  "nbformat_minor": 0,
  "metadata": {
    "colab": {
      "name": "ch09 텍스트를 위한 인공 신경망.ipynb",
      "provenance": [],
      "authorship_tag": "ABX9TyN2N7PcMhIlLkzkIFQWFcm1",
      "include_colab_link": true
    },
    "kernelspec": {
      "name": "python3",
      "display_name": "Python 3"
    },
    "language_info": {
      "name": "python"
    }
  },
  "cells": [
    {
      "cell_type": "markdown",
      "metadata": {
        "id": "view-in-github",
        "colab_type": "text"
      },
      "source": [
        "<a href=\"https://colab.research.google.com/github/YES-studyNproject/study/blob/main/ch09_%ED%85%8D%EC%8A%A4%ED%8A%B8%EB%A5%BC_%EC%9C%84%ED%95%9C_%EC%9D%B8%EA%B3%B5_%EC%8B%A0%EA%B2%BD%EB%A7%9D.ipynb\" target=\"_parent\"><img src=\"https://colab.research.google.com/assets/colab-badge.svg\" alt=\"Open In Colab\"/></a>"
      ]
    },
    {
      "cell_type": "markdown",
      "metadata": {
        "id": "GLeHF5Mpgt2m"
      },
      "source": [
        "# Chapter 09. 텍스트를 위한 인공 신경망"
      ]
    },
    {
      "cell_type": "markdown",
      "metadata": {
        "id": "tMKMl1sQgzuS"
      },
      "source": [
        "## 09-1. 순차 데이터와 순환 신경망\n",
        "\n",
        "### 순차 데이터 \n",
        "* 순차 데이터: 순서에 의미 있는 데이터\n",
        "* 피스포워드 신경망(FFNN): 입력 데이터의 흐름이 앞으로만 전달되는 신경망\n",
        "\n",
        "### 순환 신경망\n",
        "* 순환 신경망: 완전 연결 신경망 + 이전 데이터의 처리 흐름을 순환하는 고리 추가\n",
        "* 타임스텝: 샘플을 처리하는 한 단계\n",
        "* 셀: 순환 신경망에서의 층\n",
        "* 은닉 상태: 셀의 출력\n",
        "* tanh(하이퍼블릭 탄젠트): 은닉층의 활성화 함수\n",
        "\n",
        "### 셀의 가중치와 입출력\n",
        "* 순환층 = 셀\n",
        "* 하나의 시퀀스 = 하나의 샘플\n",
        "* 시퀀스의 길이 = 타임스텝 길이\n",
        "* 셀의 입력\n",
        "  * 2차원 배열 \n",
        "  * 타임스텝, 단어 표현\n",
        "* 셀의 출력\n",
        "  * 1차원 배열 (1차원 배열의 크기: 순환층의 뉴런 개수)\n",
        "  * 마지막 타임스텝의 은닉 상태만 출력\n",
        "* 여러 개의 층일 때 셀의 출력\n",
        "  * 마지막 셀을 제외한 모든 셀: 모든 타임스텝의 은닉 상태를 출력\n",
        "  * 마지막 셀:마지막 타임스템의 은닉 상태만 출력\n",
        "* 출력층: 밀집층 - 클래스 분류\n",
        "  * 다중 분류: 출력층에 클래스 개수만큼 뉴런, 소프트맥스 활성화 함수\n",
        "  * 이진 분류: 하나의 뉴런, 시그모이드 활성화 함수\n",
        "\n"
      ]
    },
    {
      "cell_type": "markdown",
      "metadata": {
        "id": "MusV5YYT6kQF"
      },
      "source": [
        "## 09-2. 순환 신경망으로 IMDB 리뷰 분류하기"
      ]
    },
    {
      "cell_type": "markdown",
      "metadata": {
        "id": "S1A-DDIQ6kQQ"
      },
      "source": [
        "### IMDB 리뷰 데이터셋\n",
        "* 자연어 처리(NLP): 음성 인식, 기계 번역, 감성 분석\n",
        "* 말뭉치: 자연어 처리 분야 훈련 데이터\n",
        "* 토큰\n",
        "  * 영어 문장에서 소문자로 변환, 구두점 삭제, 공백을 기준으로 분리한 단어들\n",
        "  * 한글에서 형태소 분석 (KoNLPy)\n",
        "* 어휘 사전: 훈련 세트에서 고유한 단어를 뽑아 만든 목록\n",
        "\n"
      ]
    },
    {
      "cell_type": "code",
      "metadata": {
        "execution": {
          "iopub.execute_input": "2020-10-12T01:18:41.979392Z",
          "iopub.status.busy": "2020-10-12T01:18:41.978299Z",
          "iopub.status.idle": "2020-10-12T01:18:52.473300Z",
          "shell.execute_reply": "2020-10-12T01:18:52.471703Z"
        },
        "id": "sZoZm1ZO6kQR",
        "colab": {
          "base_uri": "https://localhost:8080/"
        },
        "outputId": "c340dd55-629f-4615-db76-9c06bc46e2c2"
      },
      "source": [
        "from tensorflow.keras.datasets import imdb\n",
        "\n",
        "(train_input, train_target), (test_input, test_target) = imdb.load_data(\n",
        "    num_words=500) # num_word=500: 전체 데이터셋에서 가장 자주 드앚ㅇ하는 단어 500개"
      ],
      "execution_count": null,
      "outputs": [
        {
          "output_type": "stream",
          "text": [
            "Downloading data from https://storage.googleapis.com/tensorflow/tf-keras-datasets/imdb.npz\n",
            "17465344/17464789 [==============================] - 0s 0us/step\n",
            "17473536/17464789 [==============================] - 0s 0us/step\n"
          ],
          "name": "stdout"
        }
      ]
    },
    {
      "cell_type": "code",
      "metadata": {
        "execution": {
          "iopub.execute_input": "2020-10-12T01:18:52.481400Z",
          "iopub.status.busy": "2020-10-12T01:18:52.479645Z",
          "iopub.status.idle": "2020-10-12T01:18:52.485658Z",
          "shell.execute_reply": "2020-10-12T01:18:52.486465Z"
        },
        "id": "HTFjz6k06kQR",
        "colab": {
          "base_uri": "https://localhost:8080/"
        },
        "outputId": "1d4929d7-0a93-4bb8-cf03-682ada3d6ac9"
      },
      "source": [
        "print(train_input.shape, test_input.shape) # 1차원 배열: 파이썬 리스트 객체로 이뤄진 넘파이 배열"
      ],
      "execution_count": null,
      "outputs": [
        {
          "output_type": "stream",
          "text": [
            "(25000,) (25000,)\n"
          ],
          "name": "stdout"
        }
      ]
    },
    {
      "cell_type": "code",
      "metadata": {
        "execution": {
          "iopub.execute_input": "2020-10-12T01:18:52.493608Z",
          "iopub.status.busy": "2020-10-12T01:18:52.492625Z",
          "iopub.status.idle": "2020-10-12T01:18:52.496804Z",
          "shell.execute_reply": "2020-10-12T01:18:52.497722Z"
        },
        "id": "4jMLURzw6kQS",
        "colab": {
          "base_uri": "https://localhost:8080/"
        },
        "outputId": "ffb635f3-a3bd-42ed-b6da-fecaa0ede408"
      },
      "source": [
        "print(len(train_input[0]))"
      ],
      "execution_count": null,
      "outputs": [
        {
          "output_type": "stream",
          "text": [
            "218\n"
          ],
          "name": "stdout"
        }
      ]
    },
    {
      "cell_type": "code",
      "metadata": {
        "execution": {
          "iopub.execute_input": "2020-10-12T01:18:52.504933Z",
          "iopub.status.busy": "2020-10-12T01:18:52.503811Z",
          "iopub.status.idle": "2020-10-12T01:18:52.508252Z",
          "shell.execute_reply": "2020-10-12T01:18:52.509172Z"
        },
        "id": "xdO834PL6kQT",
        "colab": {
          "base_uri": "https://localhost:8080/"
        },
        "outputId": "28ba2580-b6b8-49b0-e07e-4df8026a5626"
      },
      "source": [
        "print(len(train_input[1]))"
      ],
      "execution_count": null,
      "outputs": [
        {
          "output_type": "stream",
          "text": [
            "189\n"
          ],
          "name": "stdout"
        }
      ]
    },
    {
      "cell_type": "code",
      "metadata": {
        "execution": {
          "iopub.execute_input": "2020-10-12T01:18:52.516102Z",
          "iopub.status.busy": "2020-10-12T01:18:52.515014Z",
          "iopub.status.idle": "2020-10-12T01:18:52.520096Z",
          "shell.execute_reply": "2020-10-12T01:18:52.520972Z"
        },
        "id": "QNuzGQ2c6kQT",
        "colab": {
          "base_uri": "https://localhost:8080/"
        },
        "outputId": "88f7dd8c-188e-4ad9-edb2-f4b59c498d40"
      },
      "source": [
        "print(train_input[0])"
      ],
      "execution_count": null,
      "outputs": [
        {
          "output_type": "stream",
          "text": [
            "[1, 14, 22, 16, 43, 2, 2, 2, 2, 65, 458, 2, 66, 2, 4, 173, 36, 256, 5, 25, 100, 43, 2, 112, 50, 2, 2, 9, 35, 480, 284, 5, 150, 4, 172, 112, 167, 2, 336, 385, 39, 4, 172, 2, 2, 17, 2, 38, 13, 447, 4, 192, 50, 16, 6, 147, 2, 19, 14, 22, 4, 2, 2, 469, 4, 22, 71, 87, 12, 16, 43, 2, 38, 76, 15, 13, 2, 4, 22, 17, 2, 17, 12, 16, 2, 18, 2, 5, 62, 386, 12, 8, 316, 8, 106, 5, 4, 2, 2, 16, 480, 66, 2, 33, 4, 130, 12, 16, 38, 2, 5, 25, 124, 51, 36, 135, 48, 25, 2, 33, 6, 22, 12, 215, 28, 77, 52, 5, 14, 407, 16, 82, 2, 8, 4, 107, 117, 2, 15, 256, 4, 2, 7, 2, 5, 2, 36, 71, 43, 2, 476, 26, 400, 317, 46, 7, 4, 2, 2, 13, 104, 88, 4, 381, 15, 297, 98, 32, 2, 56, 26, 141, 6, 194, 2, 18, 4, 226, 22, 21, 134, 476, 26, 480, 5, 144, 30, 2, 18, 51, 36, 28, 224, 92, 25, 104, 4, 226, 65, 16, 38, 2, 88, 12, 16, 283, 5, 16, 2, 113, 103, 32, 15, 16, 2, 19, 178, 32]\n"
          ],
          "name": "stdout"
        }
      ]
    },
    {
      "cell_type": "code",
      "metadata": {
        "execution": {
          "iopub.execute_input": "2020-10-12T01:18:52.528598Z",
          "iopub.status.busy": "2020-10-12T01:18:52.527510Z",
          "iopub.status.idle": "2020-10-12T01:18:52.532011Z",
          "shell.execute_reply": "2020-10-12T01:18:52.532936Z"
        },
        "id": "In8Qzltz6kQT",
        "colab": {
          "base_uri": "https://localhost:8080/"
        },
        "outputId": "78b5ddc6-d634-4755-9435-25cc8f2c9462"
      },
      "source": [
        "print(train_target[:20])"
      ],
      "execution_count": null,
      "outputs": [
        {
          "output_type": "stream",
          "text": [
            "[1 0 0 1 0 0 1 0 1 0 1 0 0 0 0 0 1 1 0 1]\n"
          ],
          "name": "stdout"
        }
      ]
    },
    {
      "cell_type": "code",
      "metadata": {
        "execution": {
          "iopub.execute_input": "2020-10-12T01:18:52.541031Z",
          "iopub.status.busy": "2020-10-12T01:18:52.539873Z",
          "iopub.status.idle": "2020-10-12T01:18:52.812559Z",
          "shell.execute_reply": "2020-10-12T01:18:52.810985Z"
        },
        "id": "0-zjNgBw6kQU"
      },
      "source": [
        "from sklearn.model_selection import train_test_split\n",
        "\n",
        "train_input, val_input, train_target, val_target = train_test_split(\n",
        "    train_input, train_target, test_size=0.2, random_state=42)"
      ],
      "execution_count": null,
      "outputs": []
    },
    {
      "cell_type": "code",
      "metadata": {
        "execution": {
          "iopub.execute_input": "2020-10-12T01:18:52.833360Z",
          "iopub.status.busy": "2020-10-12T01:18:52.831841Z",
          "iopub.status.idle": "2020-10-12T01:18:52.834920Z",
          "shell.execute_reply": "2020-10-12T01:18:52.836117Z"
        },
        "id": "sRVvgntx6kQU"
      },
      "source": [
        "import numpy as np\n",
        "\n",
        "lengths = np.array([len(x) for x in train_input])"
      ],
      "execution_count": null,
      "outputs": []
    },
    {
      "cell_type": "code",
      "metadata": {
        "execution": {
          "iopub.execute_input": "2020-10-12T01:18:52.843759Z",
          "iopub.status.busy": "2020-10-12T01:18:52.842297Z",
          "iopub.status.idle": "2020-10-12T01:18:52.847506Z",
          "shell.execute_reply": "2020-10-12T01:18:52.848361Z"
        },
        "id": "p76m_61w6kQU",
        "colab": {
          "base_uri": "https://localhost:8080/"
        },
        "outputId": "04b533f6-45ef-4514-d87d-b484a89afde6"
      },
      "source": [
        "print(np.mean(lengths), np.median(lengths))"
      ],
      "execution_count": null,
      "outputs": [
        {
          "output_type": "stream",
          "text": [
            "239.00925 178.0\n"
          ],
          "name": "stdout"
        }
      ]
    },
    {
      "cell_type": "code",
      "metadata": {
        "execution": {
          "iopub.execute_input": "2020-10-12T01:18:52.874891Z",
          "iopub.status.busy": "2020-10-12T01:18:52.873857Z",
          "iopub.status.idle": "2020-10-12T01:18:53.042560Z",
          "shell.execute_reply": "2020-10-12T01:18:53.040898Z"
        },
        "id": "TVDrsRYF6kQV",
        "colab": {
          "base_uri": "https://localhost:8080/",
          "height": 279
        },
        "outputId": "2610932c-ac31-480b-8a6c-fd5ac2793a34"
      },
      "source": [
        "import matplotlib.pyplot as plt\n",
        "\n",
        "plt.hist(lengths)\n",
        "plt.xlabel('length')\n",
        "plt.ylabel('frequency')\n",
        "plt.show()"
      ],
      "execution_count": null,
      "outputs": [
        {
          "output_type": "display_data",
          "data": {
            "image/png": "[encoded data removed]",
            "text/plain": [
              "<Figure size 432x288 with 1 Axes>"
            ]
          },
          "metadata": {
            "tags": [],
            "needs_background": "light"
          }
        }
      ]
    },
    {
      "cell_type": "code",
      "metadata": {
        "execution": {
          "iopub.execute_input": "2020-10-12T01:18:53.056410Z",
          "iopub.status.busy": "2020-10-12T01:18:53.054676Z",
          "iopub.status.idle": "2020-10-12T01:18:53.509881Z",
          "shell.execute_reply": "2020-10-12T01:18:53.507938Z"
        },
        "id": "fbLSFToP6kQV"
      },
      "source": [
        "# 패딩\n",
        "from tensorflow.keras.preprocessing.sequence import pad_sequences \n",
        "\n",
        "train_seq = pad_sequences(train_input, maxlen=100)"
      ],
      "execution_count": null,
      "outputs": []
    },
    {
      "cell_type": "code",
      "metadata": {
        "execution": {
          "iopub.execute_input": "2020-10-12T01:18:53.516113Z",
          "iopub.status.busy": "2020-10-12T01:18:53.514858Z",
          "iopub.status.idle": "2020-10-12T01:18:53.519062Z",
          "shell.execute_reply": "2020-10-12T01:18:53.520171Z"
        },
        "id": "3c86x0Yj6kQV",
        "colab": {
          "base_uri": "https://localhost:8080/"
        },
        "outputId": "52d4ff3a-9aa5-4ebd-e086-d9b2d490a29f"
      },
      "source": [
        "print(train_seq.shape)"
      ],
      "execution_count": null,
      "outputs": [
        {
          "output_type": "stream",
          "text": [
            "(20000, 100)\n"
          ],
          "name": "stdout"
        }
      ]
    },
    {
      "cell_type": "code",
      "metadata": {
        "execution": {
          "iopub.execute_input": "2020-10-12T01:18:53.529088Z",
          "iopub.status.busy": "2020-10-12T01:18:53.527775Z",
          "iopub.status.idle": "2020-10-12T01:18:53.532885Z",
          "shell.execute_reply": "2020-10-12T01:18:53.533957Z"
        },
        "id": "JuP0QJaU6kQW",
        "colab": {
          "base_uri": "https://localhost:8080/"
        },
        "outputId": "95e6521e-b200-4733-f5e8-65320ff2a81f"
      },
      "source": [
        "print(train_seq[0])"
      ],
      "execution_count": null,
      "outputs": [
        {
          "output_type": "stream",
          "text": [
            "[ 10   4  20   9   2 364 352   5  45   6   2   2  33 269   8   2 142   2\n",
            "   5   2  17  73  17 204   5   2  19  55   2   2  92  66 104  14  20  93\n",
            "  76   2 151  33   4  58  12 188   2 151  12 215  69 224 142  73 237   6\n",
            "   2   7   2   2 188   2 103  14  31  10  10 451   7   2   5   2  80  91\n",
            "   2  30   2  34  14  20 151  50  26 131  49   2  84  46  50  37  80  79\n",
            "   6   2  46   7  14  20  10  10 470 158]\n"
          ],
          "name": "stdout"
        }
      ]
    },
    {
      "cell_type": "code",
      "metadata": {
        "execution": {
          "iopub.execute_input": "2020-10-12T01:18:53.541335Z",
          "iopub.status.busy": "2020-10-12T01:18:53.540161Z",
          "iopub.status.idle": "2020-10-12T01:18:53.544735Z",
          "shell.execute_reply": "2020-10-12T01:18:53.545765Z"
        },
        "id": "6t8kaDji6kQW",
        "colab": {
          "base_uri": "https://localhost:8080/"
        },
        "outputId": "a9d5ba15-838d-4cac-c23c-18c2fa4b709f"
      },
      "source": [
        "print(train_input[0][-10:])"
      ],
      "execution_count": null,
      "outputs": [
        {
          "output_type": "stream",
          "text": [
            "[6, 2, 46, 7, 14, 20, 10, 10, 470, 158]\n"
          ],
          "name": "stdout"
        }
      ]
    },
    {
      "cell_type": "code",
      "metadata": {
        "execution": {
          "iopub.execute_input": "2020-10-12T01:18:53.553993Z",
          "iopub.status.busy": "2020-10-12T01:18:53.552689Z",
          "iopub.status.idle": "2020-10-12T01:18:53.557009Z",
          "shell.execute_reply": "2020-10-12T01:18:53.558118Z"
        },
        "scrolled": true,
        "id": "Emmoztwa6kQX",
        "colab": {
          "base_uri": "https://localhost:8080/"
        },
        "outputId": "d72b6139-e876-41a1-b331-313d3199548a"
      },
      "source": [
        "print(train_seq[5])"
      ],
      "execution_count": null,
      "outputs": [
        {
          "output_type": "stream",
          "text": [
            "[  0   0   0   0   1   2 195  19  49   2   2 190   4   2 352   2 183  10\n",
            "  10  13  82  79   4   2  36  71 269   8   2  25  19  49   7   4   2   2\n",
            "   2   2   2  10  10  48  25  40   2  11   2   2  40   2   2   5   4   2\n",
            "   2  95  14 238  56 129   2  10  10  21   2  94 364 352   2   2  11 190\n",
            "  24 484   2   7  94 205 405  10  10  87   2  34  49   2   7   2   2   2\n",
            "   2   2 290   2  46  48  64  18   4   2]\n"
          ],
          "name": "stdout"
        }
      ]
    },
    {
      "cell_type": "code",
      "metadata": {
        "execution": {
          "iopub.execute_input": "2020-10-12T01:18:53.568279Z",
          "iopub.status.busy": "2020-10-12T01:18:53.566949Z",
          "iopub.status.idle": "2020-10-12T01:18:53.688571Z",
          "shell.execute_reply": "2020-10-12T01:18:53.687412Z"
        },
        "id": "ZeFmsjOd6kQX"
      },
      "source": [
        "val_seq = pad_sequences(val_input, maxlen=100)"
      ],
      "execution_count": null,
      "outputs": []
    },
    {
      "cell_type": "markdown",
      "metadata": {
        "id": "9xab0nu_6kQX"
      },
      "source": [
        "### 순환 신경망 만들기"
      ]
    },
    {
      "cell_type": "code",
      "metadata": {
        "execution": {
          "iopub.execute_input": "2020-10-12T01:18:53.702727Z",
          "iopub.status.busy": "2020-10-12T01:18:53.694374Z",
          "iopub.status.idle": "2020-10-12T01:18:55.997285Z",
          "shell.execute_reply": "2020-10-12T01:18:55.995617Z"
        },
        "id": "45BtHGKX6kQX"
      },
      "source": [
        "from tensorflow import keras\n",
        "\n",
        "model = keras.Sequential()\n",
        "\n",
        "model.add(keras.layers.SimpleRNN(8, input_shape=(100, 500))) # 순환 신경망\n",
        "# 첫 번째 차원: 샘플의 길이 100개\n",
        "# 두 번째 차원: 고유한 단어 개수 500개 (원-핫 인코딩)\n",
        "model.add(keras.layers.Dense(1, activation='sigmoid'))"
      ],
      "execution_count": null,
      "outputs": []
    },
    {
      "cell_type": "code",
      "metadata": {
        "execution": {
          "iopub.execute_input": "2020-10-12T01:18:56.004523Z",
          "iopub.status.busy": "2020-10-12T01:18:56.002786Z",
          "iopub.status.idle": "2020-10-12T01:18:57.766487Z",
          "shell.execute_reply": "2020-10-12T01:18:57.764928Z"
        },
        "id": "oXIWyOuw6kQY"
      },
      "source": [
        "# 원-핫 인코딩\n",
        "train_oh = keras.utils.to_categorical(train_seq)"
      ],
      "execution_count": null,
      "outputs": []
    },
    {
      "cell_type": "code",
      "metadata": {
        "execution": {
          "iopub.execute_input": "2020-10-12T01:18:57.774226Z",
          "iopub.status.busy": "2020-10-12T01:18:57.772482Z",
          "iopub.status.idle": "2020-10-12T01:18:57.777731Z",
          "shell.execute_reply": "2020-10-12T01:18:57.778538Z"
        },
        "id": "VD94WiRT6kQY",
        "colab": {
          "base_uri": "https://localhost:8080/"
        },
        "outputId": "d2074cc9-cdb3-4c73-e9ca-1318fdd34034"
      },
      "source": [
        "print(train_oh.shape)"
      ],
      "execution_count": null,
      "outputs": [
        {
          "output_type": "stream",
          "text": [
            "(20000, 100, 500)\n"
          ],
          "name": "stdout"
        }
      ]
    },
    {
      "cell_type": "code",
      "metadata": {
        "execution": {
          "iopub.execute_input": "2020-10-12T01:18:57.786369Z",
          "iopub.status.busy": "2020-10-12T01:18:57.785416Z",
          "iopub.status.idle": "2020-10-12T01:18:57.790217Z",
          "shell.execute_reply": "2020-10-12T01:18:57.791183Z"
        },
        "id": "VIVSHwJg6kQY",
        "colab": {
          "base_uri": "https://localhost:8080/"
        },
        "outputId": "972653fa-6acd-405d-d1ee-2422708f9863"
      },
      "source": [
        "print(train_oh[0][0][:12])"
      ],
      "execution_count": null,
      "outputs": [
        {
          "output_type": "stream",
          "text": [
            "[0. 0. 0. 0. 0. 0. 0. 0. 0. 0. 1. 0.]\n"
          ],
          "name": "stdout"
        }
      ]
    },
    {
      "cell_type": "code",
      "metadata": {
        "execution": {
          "iopub.execute_input": "2020-10-12T01:18:57.798946Z",
          "iopub.status.busy": "2020-10-12T01:18:57.797788Z",
          "iopub.status.idle": "2020-10-12T01:18:57.802480Z",
          "shell.execute_reply": "2020-10-12T01:18:57.803390Z"
        },
        "id": "CP3ivii46kQZ",
        "colab": {
          "base_uri": "https://localhost:8080/"
        },
        "outputId": "6a669f1a-41fe-486a-e0e1-bd812d2b7aeb"
      },
      "source": [
        "print(np.sum(train_oh[0][0]))"
      ],
      "execution_count": null,
      "outputs": [
        {
          "output_type": "stream",
          "text": [
            "1.0\n"
          ],
          "name": "stdout"
        }
      ]
    },
    {
      "cell_type": "code",
      "metadata": {
        "execution": {
          "iopub.execute_input": "2020-10-12T01:18:57.810383Z",
          "iopub.status.busy": "2020-10-12T01:18:57.809293Z",
          "iopub.status.idle": "2020-10-12T01:18:58.247989Z",
          "shell.execute_reply": "2020-10-12T01:18:58.248931Z"
        },
        "id": "vgijH6m26kQZ"
      },
      "source": [
        "val_oh = keras.utils.to_categorical(val_seq)"
      ],
      "execution_count": null,
      "outputs": []
    },
    {
      "cell_type": "code",
      "metadata": {
        "execution": {
          "iopub.execute_input": "2020-10-12T01:18:58.256367Z",
          "iopub.status.busy": "2020-10-12T01:18:58.255252Z",
          "iopub.status.idle": "2020-10-12T01:18:58.261986Z",
          "shell.execute_reply": "2020-10-12T01:18:58.262846Z"
        },
        "id": "0V0Svpuf6kQZ",
        "colab": {
          "base_uri": "https://localhost:8080/"
        },
        "outputId": "34f0dd62-57da-4907-8032-9bb2655a986e"
      },
      "source": [
        "model.summary()\n",
        "\n",
        "# 모델 파라미터 개수 = 4000 + 64 + 8 = 4072\n",
        "# 500(입력) * 8(뉴런 개수) = 4000\n",
        "# 8(은닉 상태 크기) * 8(뉴런 개수) = 64\n",
        "# 8(뉴런마다 하나의 절편)"
      ],
      "execution_count": null,
      "outputs": [
        {
          "output_type": "stream",
          "text": [
            "Model: \"sequential\"\n",
            "_________________________________________________________________\n",
            "Layer (type)                 Output Shape              Param #   \n",
            "=================================================================\n",
            "simple_rnn (SimpleRNN)       (None, 8)                 4072      \n",
            "_________________________________________________________________\n",
            "dense (Dense)                (None, 1)                 9         \n",
            "=================================================================\n",
            "Total params: 4,081\n",
            "Trainable params: 4,081\n",
            "Non-trainable params: 0\n",
            "_________________________________________________________________\n"
          ],
          "name": "stdout"
        }
      ]
    },
    {
      "cell_type": "markdown",
      "metadata": {
        "id": "S22Hc-7L6kQZ"
      },
      "source": [
        "### 순환 신경망 훈련하기"
      ]
    },
    {
      "cell_type": "code",
      "metadata": {
        "execution": {
          "iopub.execute_input": "2020-10-12T01:18:58.286672Z",
          "iopub.status.busy": "2020-10-12T01:18:58.285571Z",
          "iopub.status.idle": "2020-10-12T01:30:36.157752Z",
          "shell.execute_reply": "2020-10-12T01:30:36.159280Z"
        },
        "id": "YcwM299t6kQZ",
        "colab": {
          "base_uri": "https://localhost:8080/"
        },
        "outputId": "257518bf-52ab-49d8-aa91-3c2e606ffd74"
      },
      "source": [
        "rmsprop = keras.optimizers.RMSprop(learning_rate=1e-4)\n",
        "model.compile(optimizer=rmsprop, loss='binary_crossentropy', \n",
        "              metrics=['accuracy'])\n",
        "\n",
        "checkpoint_cb = keras.callbacks.ModelCheckpoint('best-simplernn-model.h5', \n",
        "                                                save_best_only=True)\n",
        "early_stopping_cb = keras.callbacks.EarlyStopping(patience=3,\n",
        "                                                  restore_best_weights=True)\n",
        "\n",
        "history = model.fit(train_oh, train_target, epochs=100, batch_size=64,\n",
        "                    validation_data=(val_oh, val_target),\n",
        "                    callbacks=[checkpoint_cb, early_stopping_cb])"
      ],
      "execution_count": null,
      "outputs": [
        {
          "output_type": "stream",
          "text": [
            "Epoch 1/100\n",
            "313/313 [==============================] - 38s 110ms/step - loss: 0.6964 - accuracy: 0.4965 - val_loss: 0.6961 - val_accuracy: 0.4894\n",
            "Epoch 2/100\n",
            "313/313 [==============================] - 32s 102ms/step - loss: 0.6938 - accuracy: 0.5041 - val_loss: 0.6945 - val_accuracy: 0.4946\n",
            "Epoch 3/100\n",
            "313/313 [==============================] - 32s 102ms/step - loss: 0.6923 - accuracy: 0.5143 - val_loss: 0.6933 - val_accuracy: 0.5078\n",
            "Epoch 4/100\n",
            "313/313 [==============================] - 31s 100ms/step - loss: 0.6911 - accuracy: 0.5243 - val_loss: 0.6926 - val_accuracy: 0.5126\n",
            "Epoch 5/100\n",
            "313/313 [==============================] - 32s 102ms/step - loss: 0.6900 - accuracy: 0.5321 - val_loss: 0.6917 - val_accuracy: 0.5252\n",
            "Epoch 6/100\n",
            "313/313 [==============================] - 31s 100ms/step - loss: 0.6889 - accuracy: 0.5411 - val_loss: 0.6909 - val_accuracy: 0.5362\n",
            "Epoch 7/100\n",
            "313/313 [==============================] - 31s 100ms/step - loss: 0.6876 - accuracy: 0.5484 - val_loss: 0.6900 - val_accuracy: 0.5398\n",
            "Epoch 8/100\n",
            "313/313 [==============================] - 31s 100ms/step - loss: 0.6862 - accuracy: 0.5567 - val_loss: 0.6891 - val_accuracy: 0.5430\n",
            "Epoch 9/100\n",
            "313/313 [==============================] - 31s 100ms/step - loss: 0.6846 - accuracy: 0.5613 - val_loss: 0.6879 - val_accuracy: 0.5450\n",
            "Epoch 10/100\n",
            "313/313 [==============================] - 30s 97ms/step - loss: 0.6824 - accuracy: 0.5688 - val_loss: 0.6859 - val_accuracy: 0.5484\n",
            "Epoch 11/100\n",
            "313/313 [==============================] - 32s 102ms/step - loss: 0.6769 - accuracy: 0.5925 - val_loss: 0.6737 - val_accuracy: 0.6056\n",
            "Epoch 12/100\n",
            "313/313 [==============================] - 32s 101ms/step - loss: 0.6597 - accuracy: 0.6319 - val_loss: 0.6562 - val_accuracy: 0.6336\n",
            "Epoch 13/100\n",
            "313/313 [==============================] - 31s 100ms/step - loss: 0.6371 - accuracy: 0.6592 - val_loss: 0.6310 - val_accuracy: 0.6638\n",
            "Epoch 14/100\n",
            "313/313 [==============================] - 32s 101ms/step - loss: 0.6102 - accuracy: 0.6849 - val_loss: 0.6020 - val_accuracy: 0.6868\n",
            "Epoch 15/100\n",
            "313/313 [==============================] - 32s 101ms/step - loss: 0.5838 - accuracy: 0.7116 - val_loss: 0.5793 - val_accuracy: 0.7150\n",
            "Epoch 16/100\n",
            "313/313 [==============================] - 32s 103ms/step - loss: 0.5634 - accuracy: 0.7286 - val_loss: 0.5618 - val_accuracy: 0.7316\n",
            "Epoch 17/100\n",
            "313/313 [==============================] - 32s 101ms/step - loss: 0.5454 - accuracy: 0.7426 - val_loss: 0.5533 - val_accuracy: 0.7312\n",
            "Epoch 18/100\n",
            "313/313 [==============================] - 34s 107ms/step - loss: 0.5293 - accuracy: 0.7518 - val_loss: 0.5317 - val_accuracy: 0.7460\n",
            "Epoch 19/100\n",
            "313/313 [==============================] - 32s 103ms/step - loss: 0.5157 - accuracy: 0.7616 - val_loss: 0.5197 - val_accuracy: 0.7540\n",
            "Epoch 20/100\n",
            "313/313 [==============================] - 32s 101ms/step - loss: 0.5032 - accuracy: 0.7692 - val_loss: 0.5100 - val_accuracy: 0.7604\n",
            "Epoch 21/100\n",
            "313/313 [==============================] - 32s 103ms/step - loss: 0.4925 - accuracy: 0.7742 - val_loss: 0.5008 - val_accuracy: 0.7660\n",
            "Epoch 22/100\n",
            "313/313 [==============================] - 33s 106ms/step - loss: 0.4823 - accuracy: 0.7801 - val_loss: 0.4973 - val_accuracy: 0.7602\n",
            "Epoch 23/100\n",
            "313/313 [==============================] - 32s 102ms/step - loss: 0.4744 - accuracy: 0.7846 - val_loss: 0.4908 - val_accuracy: 0.7692\n",
            "Epoch 24/100\n",
            "313/313 [==============================] - 32s 102ms/step - loss: 0.4667 - accuracy: 0.7888 - val_loss: 0.4813 - val_accuracy: 0.7742\n",
            "Epoch 25/100\n",
            "313/313 [==============================] - 32s 102ms/step - loss: 0.4601 - accuracy: 0.7923 - val_loss: 0.4752 - val_accuracy: 0.7778\n",
            "Epoch 26/100\n",
            "313/313 [==============================] - 32s 101ms/step - loss: 0.4540 - accuracy: 0.7959 - val_loss: 0.4733 - val_accuracy: 0.7774\n",
            "Epoch 27/100\n",
            "313/313 [==============================] - 32s 102ms/step - loss: 0.4491 - accuracy: 0.7980 - val_loss: 0.4666 - val_accuracy: 0.7874\n",
            "Epoch 28/100\n",
            "313/313 [==============================] - 32s 102ms/step - loss: 0.4439 - accuracy: 0.7995 - val_loss: 0.4650 - val_accuracy: 0.7808\n",
            "Epoch 29/100\n",
            "313/313 [==============================] - 32s 102ms/step - loss: 0.4391 - accuracy: 0.8036 - val_loss: 0.4639 - val_accuracy: 0.7866\n",
            "Epoch 30/100\n",
            "313/313 [==============================] - 32s 103ms/step - loss: 0.4353 - accuracy: 0.8054 - val_loss: 0.4588 - val_accuracy: 0.7876\n",
            "Epoch 31/100\n",
            "313/313 [==============================] - 32s 103ms/step - loss: 0.4319 - accuracy: 0.8081 - val_loss: 0.4585 - val_accuracy: 0.7844\n",
            "Epoch 32/100\n",
            "313/313 [==============================] - 32s 102ms/step - loss: 0.4287 - accuracy: 0.8080 - val_loss: 0.4574 - val_accuracy: 0.7812\n",
            "Epoch 33/100\n",
            "313/313 [==============================] - 32s 103ms/step - loss: 0.4259 - accuracy: 0.8104 - val_loss: 0.4551 - val_accuracy: 0.7912\n",
            "Epoch 34/100\n",
            "313/313 [==============================] - 33s 104ms/step - loss: 0.4237 - accuracy: 0.8125 - val_loss: 0.4528 - val_accuracy: 0.7880\n",
            "Epoch 35/100\n",
            "313/313 [==============================] - 32s 101ms/step - loss: 0.4211 - accuracy: 0.8131 - val_loss: 0.4512 - val_accuracy: 0.7918\n",
            "Epoch 36/100\n",
            "313/313 [==============================] - 31s 100ms/step - loss: 0.4185 - accuracy: 0.8159 - val_loss: 0.4527 - val_accuracy: 0.7878\n",
            "Epoch 37/100\n",
            "313/313 [==============================] - 32s 101ms/step - loss: 0.4174 - accuracy: 0.8153 - val_loss: 0.4497 - val_accuracy: 0.7940\n",
            "Epoch 38/100\n",
            "313/313 [==============================] - 32s 103ms/step - loss: 0.4152 - accuracy: 0.8150 - val_loss: 0.4591 - val_accuracy: 0.7902\n",
            "Epoch 39/100\n",
            "313/313 [==============================] - 32s 102ms/step - loss: 0.4138 - accuracy: 0.8177 - val_loss: 0.4494 - val_accuracy: 0.7928\n",
            "Epoch 40/100\n",
            "313/313 [==============================] - 31s 100ms/step - loss: 0.4118 - accuracy: 0.8170 - val_loss: 0.4478 - val_accuracy: 0.7940\n",
            "Epoch 41/100\n",
            "313/313 [==============================] - 32s 102ms/step - loss: 0.4102 - accuracy: 0.8171 - val_loss: 0.4475 - val_accuracy: 0.7956\n",
            "Epoch 42/100\n",
            "313/313 [==============================] - 32s 101ms/step - loss: 0.4090 - accuracy: 0.8189 - val_loss: 0.4471 - val_accuracy: 0.7976\n",
            "Epoch 43/100\n",
            "313/313 [==============================] - 32s 101ms/step - loss: 0.4079 - accuracy: 0.8199 - val_loss: 0.4466 - val_accuracy: 0.7934\n",
            "Epoch 44/100\n",
            "313/313 [==============================] - 32s 102ms/step - loss: 0.4074 - accuracy: 0.8205 - val_loss: 0.4455 - val_accuracy: 0.7938\n",
            "Epoch 45/100\n",
            "313/313 [==============================] - 32s 102ms/step - loss: 0.4057 - accuracy: 0.8207 - val_loss: 0.4461 - val_accuracy: 0.7966\n",
            "Epoch 46/100\n",
            "313/313 [==============================] - 32s 102ms/step - loss: 0.4050 - accuracy: 0.8206 - val_loss: 0.4522 - val_accuracy: 0.7962\n",
            "Epoch 47/100\n",
            "313/313 [==============================] - 31s 100ms/step - loss: 0.4038 - accuracy: 0.8239 - val_loss: 0.4447 - val_accuracy: 0.7936\n",
            "Epoch 48/100\n",
            "313/313 [==============================] - 32s 102ms/step - loss: 0.4027 - accuracy: 0.8242 - val_loss: 0.4491 - val_accuracy: 0.7964\n",
            "Epoch 49/100\n",
            "313/313 [==============================] - 32s 101ms/step - loss: 0.4019 - accuracy: 0.8230 - val_loss: 0.4496 - val_accuracy: 0.7938\n",
            "Epoch 50/100\n",
            "313/313 [==============================] - 31s 100ms/step - loss: 0.4009 - accuracy: 0.8242 - val_loss: 0.4461 - val_accuracy: 0.7968\n"
          ],
          "name": "stdout"
        }
      ]
    },
    {
      "cell_type": "code",
      "metadata": {
        "execution": {
          "iopub.execute_input": "2020-10-12T01:30:36.190161Z",
          "iopub.status.busy": "2020-10-12T01:30:36.175046Z",
          "iopub.status.idle": "2020-10-12T01:30:36.782577Z",
          "shell.execute_reply": "2020-10-12T01:30:36.784046Z"
        },
        "id": "YS_5tIG26kQa",
        "colab": {
          "base_uri": "https://localhost:8080/",
          "height": 279
        },
        "outputId": "7affeec2-15fb-4217-daa5-2c8ef2f8a74b"
      },
      "source": [
        "plt.plot(history.history['loss'])\n",
        "plt.plot(history.history['val_loss'])\n",
        "plt.xlabel('epoch')\n",
        "plt.ylabel('loss')\n",
        "plt.legend(['train', 'val'])\n",
        "plt.show()"
      ],
      "execution_count": null,
      "outputs": [
        {
          "output_type": "display_data",
          "data": {
            "image/png": "[encoded data removed]",
            "text/plain": [
              "<Figure size 432x288 with 1 Axes>"
            ]
          },
          "metadata": {
            "tags": [],
            "needs_background": "light"
          }
        }
      ]
    },
    {
      "cell_type": "markdown",
      "metadata": {
        "id": "K_U_lVie6kQa"
      },
      "source": [
        "### 단어 임베딩을 사용하기\n",
        "* 단어 임베딩\n",
        "  * 순환 신경망에서 텍스트를 처리할 때 즐겨 사용\n",
        "  * 각 단어를 고정된 크기의 실수 벡터로 변환"
      ]
    },
    {
      "cell_type": "code",
      "metadata": {
        "execution": {
          "iopub.execute_input": "2020-10-12T01:30:36.795147Z",
          "iopub.status.busy": "2020-10-12T01:30:36.793959Z",
          "iopub.status.idle": "2020-10-12T01:30:37.414822Z",
          "shell.execute_reply": "2020-10-12T01:30:37.417021Z"
        },
        "id": "Ofl-Ifev6kQa",
        "colab": {
          "base_uri": "https://localhost:8080/"
        },
        "outputId": "5446f8dd-845c-4fea-eb3a-a8887f010da0"
      },
      "source": [
        "model2 = keras.Sequential()\n",
        "\n",
        "model2.add(keras.layers.Embedding(500, 16, input_length=100)) # 임베딩\n",
        "# 첫 번째 매개변수: 어휘 사전의 크기\n",
        "# 두 번째 매개변수: 임베딩 벡터의 크기\n",
        "# 세 번째 input_length 매개변수: 입력 시퀀스의 길이\n",
        "model2.add(keras.layers.SimpleRNN(8))\n",
        "model2.add(keras.layers.Dense(1, activation='sigmoid'))\n",
        "\n",
        "model2.summary()"
      ],
      "execution_count": null,
      "outputs": [
        {
          "output_type": "stream",
          "text": [
            "Model: \"sequential_2\"\n",
            "_________________________________________________________________\n",
            "Layer (type)                 Output Shape              Param #   \n",
            "=================================================================\n",
            "embedding_1 (Embedding)      (None, 100, 16)           8000      \n",
            "_________________________________________________________________\n",
            "simple_rnn_2 (SimpleRNN)     (None, 8)                 200       \n",
            "_________________________________________________________________\n",
            "dense_2 (Dense)              (None, 1)                 9         \n",
            "=================================================================\n",
            "Total params: 8,209\n",
            "Trainable params: 8,209\n",
            "Non-trainable params: 0\n",
            "_________________________________________________________________\n"
          ],
          "name": "stdout"
        }
      ]
    },
    {
      "cell_type": "code",
      "metadata": {
        "execution": {
          "iopub.execute_input": "2020-10-12T01:30:37.439013Z",
          "iopub.status.busy": "2020-10-12T01:30:37.437655Z",
          "iopub.status.idle": "2020-10-12T01:40:38.584921Z",
          "shell.execute_reply": "2020-10-12T01:40:38.586340Z"
        },
        "id": "78TUrJAs6kQa",
        "colab": {
          "base_uri": "https://localhost:8080/"
        },
        "outputId": "ee782c94-cf81-4add-e0a9-5290b91bd2bf"
      },
      "source": [
        "rmsprop = keras.optimizers.RMSprop(learning_rate=1e-4)\n",
        "model2.compile(optimizer=rmsprop, loss='binary_crossentropy', \n",
        "               metrics=['accuracy'])\n",
        "\n",
        "checkpoint_cb = keras.callbacks.ModelCheckpoint('best-embedding-model.h5', \n",
        "                                                save_best_only=True)\n",
        "early_stopping_cb = keras.callbacks.EarlyStopping(patience=3,\n",
        "                                                  restore_best_weights=True)\n",
        "\n",
        "history = model2.fit(train_seq, train_target, epochs=100, batch_size=64,\n",
        "                     validation_data=(val_seq, val_target),\n",
        "                     callbacks=[checkpoint_cb, early_stopping_cb])"
      ],
      "execution_count": null,
      "outputs": [
        {
          "output_type": "stream",
          "text": [
            "Epoch 1/100\n",
            "313/313 [==============================] - 45s 138ms/step - loss: 0.6885 - accuracy: 0.5390 - val_loss: 0.6777 - val_accuracy: 0.5888\n",
            "Epoch 2/100\n",
            "313/313 [==============================] - 43s 136ms/step - loss: 0.6352 - accuracy: 0.6608 - val_loss: 0.6000 - val_accuracy: 0.7100\n",
            "Epoch 3/100\n",
            "313/313 [==============================] - 43s 138ms/step - loss: 0.5780 - accuracy: 0.7263 - val_loss: 0.5707 - val_accuracy: 0.7300\n",
            "Epoch 4/100\n",
            "313/313 [==============================] - 42s 135ms/step - loss: 0.5466 - accuracy: 0.7505 - val_loss: 0.5402 - val_accuracy: 0.7486\n",
            "Epoch 5/100\n",
            "313/313 [==============================] - 43s 136ms/step - loss: 0.5244 - accuracy: 0.7669 - val_loss: 0.5316 - val_accuracy: 0.7550\n",
            "Epoch 6/100\n",
            "313/313 [==============================] - 43s 136ms/step - loss: 0.5079 - accuracy: 0.7767 - val_loss: 0.5142 - val_accuracy: 0.7678\n",
            "Epoch 7/100\n",
            "313/313 [==============================] - 43s 138ms/step - loss: 0.4963 - accuracy: 0.7835 - val_loss: 0.5149 - val_accuracy: 0.7598\n",
            "Epoch 8/100\n",
            "313/313 [==============================] - 43s 138ms/step - loss: 0.4856 - accuracy: 0.7880 - val_loss: 0.4977 - val_accuracy: 0.7740\n",
            "Epoch 9/100\n",
            "313/313 [==============================] - 43s 137ms/step - loss: 0.4761 - accuracy: 0.7926 - val_loss: 0.4901 - val_accuracy: 0.7790\n",
            "Epoch 10/100\n",
            "313/313 [==============================] - 43s 138ms/step - loss: 0.4694 - accuracy: 0.7940 - val_loss: 0.4869 - val_accuracy: 0.7766\n",
            "Epoch 11/100\n",
            "313/313 [==============================] - 43s 137ms/step - loss: 0.4625 - accuracy: 0.7993 - val_loss: 0.4812 - val_accuracy: 0.7810\n",
            "Epoch 12/100\n",
            "313/313 [==============================] - 43s 136ms/step - loss: 0.4574 - accuracy: 0.7982 - val_loss: 0.4973 - val_accuracy: 0.7610\n",
            "Epoch 13/100\n",
            "313/313 [==============================] - 43s 137ms/step - loss: 0.4531 - accuracy: 0.8032 - val_loss: 0.4786 - val_accuracy: 0.7802\n",
            "Epoch 14/100\n",
            "313/313 [==============================] - 43s 137ms/step - loss: 0.4483 - accuracy: 0.8044 - val_loss: 0.4758 - val_accuracy: 0.7832\n",
            "Epoch 15/100\n",
            "313/313 [==============================] - 43s 137ms/step - loss: 0.4447 - accuracy: 0.8062 - val_loss: 0.4707 - val_accuracy: 0.7882\n",
            "Epoch 16/100\n",
            "313/313 [==============================] - 43s 137ms/step - loss: 0.4408 - accuracy: 0.8094 - val_loss: 0.4673 - val_accuracy: 0.7886\n",
            "Epoch 17/100\n",
            "313/313 [==============================] - 43s 138ms/step - loss: 0.4378 - accuracy: 0.8080 - val_loss: 0.4704 - val_accuracy: 0.7810\n",
            "Epoch 18/100\n",
            "313/313 [==============================] - 43s 136ms/step - loss: 0.4341 - accuracy: 0.8105 - val_loss: 0.4627 - val_accuracy: 0.7898\n",
            "Epoch 19/100\n",
            "313/313 [==============================] - 43s 136ms/step - loss: 0.4319 - accuracy: 0.8105 - val_loss: 0.4617 - val_accuracy: 0.7878\n",
            "Epoch 20/100\n",
            "313/313 [==============================] - 43s 136ms/step - loss: 0.4293 - accuracy: 0.8128 - val_loss: 0.4628 - val_accuracy: 0.7868\n",
            "Epoch 21/100\n",
            "313/313 [==============================] - 43s 136ms/step - loss: 0.4274 - accuracy: 0.8120 - val_loss: 0.4607 - val_accuracy: 0.7854\n",
            "Epoch 22/100\n",
            "313/313 [==============================] - 43s 137ms/step - loss: 0.4247 - accuracy: 0.8148 - val_loss: 0.4628 - val_accuracy: 0.7872\n",
            "Epoch 23/100\n",
            "313/313 [==============================] - 43s 137ms/step - loss: 0.4223 - accuracy: 0.8155 - val_loss: 0.4581 - val_accuracy: 0.7882\n",
            "Epoch 24/100\n",
            "313/313 [==============================] - 43s 137ms/step - loss: 0.4209 - accuracy: 0.8152 - val_loss: 0.4624 - val_accuracy: 0.7856\n",
            "Epoch 25/100\n",
            "313/313 [==============================] - 43s 138ms/step - loss: 0.4179 - accuracy: 0.8168 - val_loss: 0.4590 - val_accuracy: 0.7862\n",
            "Epoch 26/100\n",
            "313/313 [==============================] - 43s 137ms/step - loss: 0.4156 - accuracy: 0.8181 - val_loss: 0.4585 - val_accuracy: 0.7888\n"
          ],
          "name": "stdout"
        }
      ]
    },
    {
      "cell_type": "code",
      "metadata": {
        "execution": {
          "iopub.execute_input": "2020-10-12T01:40:38.604725Z",
          "iopub.status.busy": "2020-10-12T01:40:38.602954Z",
          "iopub.status.idle": "2020-10-12T01:40:39.220316Z",
          "shell.execute_reply": "2020-10-12T01:40:39.221611Z"
        },
        "id": "brUvKwLt6kQb",
        "colab": {
          "base_uri": "https://localhost:8080/",
          "height": 282
        },
        "outputId": "c9907bb0-000c-4c7f-fe2c-ce8128bac52b"
      },
      "source": [
        "plt.plot(history.history['loss'])\n",
        "plt.plot(history.history['val_loss'])\n",
        "plt.xlabel('epoch')\n",
        "plt.ylabel('loss')\n",
        "plt.legend(['train', 'val'])\n",
        "plt.show()"
      ],
      "execution_count": null,
      "outputs": [
        {
          "output_type": "display_data",
          "data": {
            "image/png": "[encoded data removed]",
            "text/plain": [
              "<Figure size 432x288 with 1 Axes>"
            ]
          },
          "metadata": {
            "tags": [],
            "needs_background": "light"
          }
        }
      ]
    },
    {
      "cell_type": "markdown",
      "metadata": {
        "id": "AlaMdWF26k2H"
      },
      "source": [
        "## 09-2. LSTM과 GRU 셀"
      ]
    },
    {
      "cell_type": "markdown",
      "metadata": {
        "id": "KWi9yl0q6k2N"
      },
      "source": [
        "### LSTM 신경망 훈련하기"
      ]
    },
    {
      "cell_type": "code",
      "metadata": {
        "execution": {
          "iopub.execute_input": "2020-10-12T09:05:30.590337Z",
          "iopub.status.busy": "2020-10-12T09:05:30.589154Z",
          "iopub.status.idle": "2020-10-12T09:05:40.880700Z",
          "shell.execute_reply": "2020-10-12T09:05:40.879133Z"
        },
        "id": "XL7x0NCx6k2N",
        "colab": {
          "base_uri": "https://localhost:8080/"
        },
        "outputId": "d5c9f55e-6a51-49b7-e739-d2242adddcae"
      },
      "source": [
        "from tensorflow.keras.datasets import imdb\n",
        "from sklearn.model_selection import train_test_split\n",
        "\n",
        "(train_input, train_target), (test_input, test_target) = imdb.load_data(\n",
        "    num_words=500)\n",
        "\n",
        "train_input, val_input, train_target, val_target = train_test_split(\n",
        "    train_input, train_target, test_size=0.2, random_state=42)"
      ],
      "execution_count": null,
      "outputs": [
        {
          "output_type": "stream",
          "text": [
            "Downloading data from https://storage.googleapis.com/tensorflow/tf-keras-datasets/imdb.npz\n",
            "17465344/17464789 [==============================] - 0s 0us/step\n",
            "17473536/17464789 [==============================] - 0s 0us/step\n"
          ],
          "name": "stdout"
        }
      ]
    },
    {
      "cell_type": "code",
      "metadata": {
        "execution": {
          "iopub.execute_input": "2020-10-12T09:05:40.904623Z",
          "iopub.status.busy": "2020-10-12T09:05:40.902896Z",
          "iopub.status.idle": "2020-10-12T09:05:41.543511Z",
          "shell.execute_reply": "2020-10-12T09:05:41.542251Z"
        },
        "id": "5bjJ14QJ6k2O"
      },
      "source": [
        "from tensorflow.keras.preprocessing.sequence import pad_sequences\n",
        "\n",
        "train_seq = pad_sequences(train_input, maxlen=100)\n",
        "val_seq = pad_sequences(val_input, maxlen=100)"
      ],
      "execution_count": null,
      "outputs": []
    },
    {
      "cell_type": "code",
      "metadata": {
        "execution": {
          "iopub.execute_input": "2020-10-12T09:05:41.551517Z",
          "iopub.status.busy": "2020-10-12T09:05:41.550145Z",
          "iopub.status.idle": "2020-10-12T09:05:43.982644Z",
          "shell.execute_reply": "2020-10-12T09:05:43.983878Z"
        },
        "id": "uMlTD4zv6k2O",
        "colab": {
          "base_uri": "https://localhost:8080/"
        },
        "outputId": "dc7c0080-f72c-4032-caf4-1a8e63202989"
      },
      "source": [
        "from tensorflow import keras\n",
        "\n",
        "model = keras.Sequential()\n",
        "\n",
        "model.add(keras.layers.Embedding(500, 16, input_length=100))\n",
        "model.add(keras.layers.LSTM(8))\n",
        "model.add(keras.layers.Dense(1, activation='sigmoid'))\n",
        "\n",
        "model.summary()"
      ],
      "execution_count": null,
      "outputs": [
        {
          "output_type": "stream",
          "text": [
            "Model: \"sequential\"\n",
            "_________________________________________________________________\n",
            "Layer (type)                 Output Shape              Param #   \n",
            "=================================================================\n",
            "embedding (Embedding)        (None, 100, 16)           8000      \n",
            "_________________________________________________________________\n",
            "lstm (LSTM)                  (None, 8)                 800       \n",
            "_________________________________________________________________\n",
            "dense (Dense)                (None, 1)                 9         \n",
            "=================================================================\n",
            "Total params: 8,809\n",
            "Trainable params: 8,809\n",
            "Non-trainable params: 0\n",
            "_________________________________________________________________\n"
          ],
          "name": "stdout"
        }
      ]
    },
    {
      "cell_type": "code",
      "metadata": {
        "execution": {
          "iopub.execute_input": "2020-10-12T09:05:44.007411Z",
          "iopub.status.busy": "2020-10-12T09:05:44.005663Z",
          "iopub.status.idle": "2020-10-12T09:09:36.703760Z",
          "shell.execute_reply": "2020-10-12T09:09:36.702162Z"
        },
        "id": "nCmqOkjI6k2P",
        "colab": {
          "base_uri": "https://localhost:8080/"
        },
        "outputId": "5057828c-5f90-48a5-fafa-c31f7407cc4c"
      },
      "source": [
        "rmsprop = keras.optimizers.RMSprop(learning_rate=1e-4)\n",
        "model.compile(optimizer=rmsprop, loss='binary_crossentropy', \n",
        "              metrics=['accuracy'])\n",
        "\n",
        "checkpoint_cb = keras.callbacks.ModelCheckpoint('best-lstm-model.h5', \n",
        "                                                save_best_only=True)\n",
        "early_stopping_cb = keras.callbacks.EarlyStopping(patience=3,\n",
        "                                                  restore_best_weights=True)\n",
        "\n",
        "history = model.fit(train_seq, train_target, epochs=100, batch_size=64,\n",
        "                    validation_data=(val_seq, val_target),\n",
        "                    callbacks=[checkpoint_cb, early_stopping_cb])"
      ],
      "execution_count": null,
      "outputs": [
        {
          "output_type": "stream",
          "text": [
            "Epoch 1/100\n",
            "313/313 [==============================] - 13s 21ms/step - loss: 0.6922 - accuracy: 0.5435 - val_loss: 0.6906 - val_accuracy: 0.5886\n",
            "Epoch 2/100\n",
            "313/313 [==============================] - 6s 20ms/step - loss: 0.6877 - accuracy: 0.6327 - val_loss: 0.6829 - val_accuracy: 0.6708\n",
            "Epoch 3/100\n",
            "313/313 [==============================] - 6s 20ms/step - loss: 0.6647 - accuracy: 0.6944 - val_loss: 0.6343 - val_accuracy: 0.7098\n",
            "Epoch 4/100\n",
            "313/313 [==============================] - 6s 20ms/step - loss: 0.6053 - accuracy: 0.7117 - val_loss: 0.5918 - val_accuracy: 0.7134\n",
            "Epoch 5/100\n",
            "313/313 [==============================] - 6s 19ms/step - loss: 0.5763 - accuracy: 0.7304 - val_loss: 0.5709 - val_accuracy: 0.7320\n",
            "Epoch 6/100\n",
            "313/313 [==============================] - 6s 19ms/step - loss: 0.5540 - accuracy: 0.7467 - val_loss: 0.5487 - val_accuracy: 0.7470\n",
            "Epoch 7/100\n",
            "313/313 [==============================] - 6s 20ms/step - loss: 0.5326 - accuracy: 0.7625 - val_loss: 0.5285 - val_accuracy: 0.7602\n",
            "Epoch 8/100\n",
            "313/313 [==============================] - 6s 20ms/step - loss: 0.5124 - accuracy: 0.7727 - val_loss: 0.5122 - val_accuracy: 0.7666\n",
            "Epoch 9/100\n",
            "313/313 [==============================] - 6s 19ms/step - loss: 0.4955 - accuracy: 0.7830 - val_loss: 0.5002 - val_accuracy: 0.7724\n",
            "Epoch 10/100\n",
            "313/313 [==============================] - 6s 19ms/step - loss: 0.4817 - accuracy: 0.7896 - val_loss: 0.4953 - val_accuracy: 0.7698\n",
            "Epoch 11/100\n",
            "313/313 [==============================] - 6s 20ms/step - loss: 0.4716 - accuracy: 0.7940 - val_loss: 0.4785 - val_accuracy: 0.7818\n",
            "Epoch 12/100\n",
            "313/313 [==============================] - 6s 19ms/step - loss: 0.4636 - accuracy: 0.7986 - val_loss: 0.4729 - val_accuracy: 0.7868\n",
            "Epoch 13/100\n",
            "313/313 [==============================] - 6s 20ms/step - loss: 0.4569 - accuracy: 0.7992 - val_loss: 0.4746 - val_accuracy: 0.7836\n",
            "Epoch 14/100\n",
            "313/313 [==============================] - 6s 20ms/step - loss: 0.4512 - accuracy: 0.8023 - val_loss: 0.4707 - val_accuracy: 0.7886\n",
            "Epoch 15/100\n",
            "313/313 [==============================] - 6s 20ms/step - loss: 0.4471 - accuracy: 0.8023 - val_loss: 0.4614 - val_accuracy: 0.7908\n",
            "Epoch 16/100\n",
            "313/313 [==============================] - 6s 19ms/step - loss: 0.4426 - accuracy: 0.8040 - val_loss: 0.4588 - val_accuracy: 0.7916\n",
            "Epoch 17/100\n",
            "313/313 [==============================] - 6s 20ms/step - loss: 0.4390 - accuracy: 0.8051 - val_loss: 0.4577 - val_accuracy: 0.7938\n",
            "Epoch 18/100\n",
            "313/313 [==============================] - 6s 20ms/step - loss: 0.4358 - accuracy: 0.8058 - val_loss: 0.4535 - val_accuracy: 0.7948\n",
            "Epoch 19/100\n",
            "313/313 [==============================] - 6s 19ms/step - loss: 0.4329 - accuracy: 0.8074 - val_loss: 0.4557 - val_accuracy: 0.7938\n",
            "Epoch 20/100\n",
            "313/313 [==============================] - 6s 20ms/step - loss: 0.4308 - accuracy: 0.8069 - val_loss: 0.4503 - val_accuracy: 0.7946\n",
            "Epoch 21/100\n",
            "313/313 [==============================] - 6s 19ms/step - loss: 0.4282 - accuracy: 0.8092 - val_loss: 0.4488 - val_accuracy: 0.7954\n",
            "Epoch 22/100\n",
            "313/313 [==============================] - 6s 20ms/step - loss: 0.4261 - accuracy: 0.8102 - val_loss: 0.4462 - val_accuracy: 0.7948\n",
            "Epoch 23/100\n",
            "313/313 [==============================] - 6s 19ms/step - loss: 0.4242 - accuracy: 0.8101 - val_loss: 0.4458 - val_accuracy: 0.7936\n",
            "Epoch 24/100\n",
            "313/313 [==============================] - 6s 19ms/step - loss: 0.4222 - accuracy: 0.8106 - val_loss: 0.4441 - val_accuracy: 0.7944\n",
            "Epoch 25/100\n",
            "313/313 [==============================] - 6s 20ms/step - loss: 0.4208 - accuracy: 0.8100 - val_loss: 0.4426 - val_accuracy: 0.7980\n",
            "Epoch 26/100\n",
            "313/313 [==============================] - 6s 20ms/step - loss: 0.4194 - accuracy: 0.8119 - val_loss: 0.4421 - val_accuracy: 0.7936\n",
            "Epoch 27/100\n",
            "313/313 [==============================] - 6s 20ms/step - loss: 0.4178 - accuracy: 0.8127 - val_loss: 0.4409 - val_accuracy: 0.7952\n",
            "Epoch 28/100\n",
            "313/313 [==============================] - 6s 19ms/step - loss: 0.4169 - accuracy: 0.8127 - val_loss: 0.4392 - val_accuracy: 0.7988\n",
            "Epoch 29/100\n",
            "313/313 [==============================] - 6s 20ms/step - loss: 0.4154 - accuracy: 0.8135 - val_loss: 0.4402 - val_accuracy: 0.8000\n",
            "Epoch 30/100\n",
            "313/313 [==============================] - 6s 20ms/step - loss: 0.4140 - accuracy: 0.8140 - val_loss: 0.4370 - val_accuracy: 0.7988\n",
            "Epoch 31/100\n",
            "313/313 [==============================] - 6s 20ms/step - loss: 0.4134 - accuracy: 0.8134 - val_loss: 0.4365 - val_accuracy: 0.7976\n",
            "Epoch 32/100\n",
            "313/313 [==============================] - 6s 20ms/step - loss: 0.4120 - accuracy: 0.8145 - val_loss: 0.4390 - val_accuracy: 0.8030\n",
            "Epoch 33/100\n",
            "313/313 [==============================] - 6s 20ms/step - loss: 0.4115 - accuracy: 0.8145 - val_loss: 0.4365 - val_accuracy: 0.7934\n",
            "Epoch 34/100\n",
            "313/313 [==============================] - 6s 19ms/step - loss: 0.4106 - accuracy: 0.8165 - val_loss: 0.4390 - val_accuracy: 0.8008\n"
          ],
          "name": "stdout"
        }
      ]
    },
    {
      "cell_type": "code",
      "metadata": {
        "execution": {
          "iopub.execute_input": "2020-10-12T09:09:36.725150Z",
          "iopub.status.busy": "2020-10-12T09:09:36.723949Z",
          "iopub.status.idle": "2020-10-12T09:09:37.618677Z",
          "shell.execute_reply": "2020-10-12T09:09:37.620018Z"
        },
        "id": "Xl1bliNr6k2Q",
        "colab": {
          "base_uri": "https://localhost:8080/",
          "height": 279
        },
        "outputId": "4e6792a9-2118-4498-a4cb-f0b39d1609c0"
      },
      "source": [
        "import matplotlib.pyplot as plt\n",
        "\n",
        "plt.plot(history.history['loss'])\n",
        "plt.plot(history.history['val_loss'])\n",
        "plt.xlabel('epoch')\n",
        "plt.ylabel('loss')\n",
        "plt.legend(['train', 'val'])\n",
        "plt.show()"
      ],
      "execution_count": null,
      "outputs": [
        {
          "output_type": "display_data",
          "data": {
            "image/png": "[encoded data removed]",
            "text/plain": [
              "<Figure size 432x288 with 1 Axes>"
            ]
          },
          "metadata": {
            "tags": [],
            "needs_background": "light"
          }
        }
      ]
    },
    {
      "cell_type": "markdown",
      "metadata": {
        "id": "ob79h7Kc6k2Q"
      },
      "source": [
        "### 순환 층에 드롭아웃 적용하기"
      ]
    },
    {
      "cell_type": "code",
      "metadata": {
        "execution": {
          "iopub.execute_input": "2020-10-12T09:09:37.633391Z",
          "iopub.status.busy": "2020-10-12T09:09:37.631822Z",
          "iopub.status.idle": "2020-10-12T09:09:37.849640Z",
          "shell.execute_reply": "2020-10-12T09:09:37.850929Z"
        },
        "id": "Fr0DUR-Y6k2R"
      },
      "source": [
        "model2 = keras.Sequential()\n",
        "\n",
        "model2.add(keras.layers.Embedding(500, 16, input_length=100))\n",
        "model2.add(keras.layers.LSTM(8, dropout=0.3))\n",
        "model2.add(keras.layers.Dense(1, activation='sigmoid'))"
      ],
      "execution_count": null,
      "outputs": []
    },
    {
      "cell_type": "code",
      "metadata": {
        "execution": {
          "iopub.execute_input": "2020-10-12T09:09:37.868353Z",
          "iopub.status.busy": "2020-10-12T09:09:37.866777Z",
          "iopub.status.idle": "2020-10-12T09:13:59.438760Z",
          "shell.execute_reply": "2020-10-12T09:13:59.440154Z"
        },
        "id": "Ap8XxUO46k2R",
        "colab": {
          "base_uri": "https://localhost:8080/"
        },
        "outputId": "5953909f-5c48-43e9-b321-8b5f3ed0d52a"
      },
      "source": [
        "rmsprop = keras.optimizers.RMSprop(learning_rate=1e-4)\n",
        "model2.compile(optimizer=rmsprop, loss='binary_crossentropy', \n",
        "               metrics=['accuracy'])\n",
        "\n",
        "checkpoint_cb = keras.callbacks.ModelCheckpoint('best-dropout-model.h5', \n",
        "                                                save_best_only=True)\n",
        "early_stopping_cb = keras.callbacks.EarlyStopping(patience=3,\n",
        "                                                  restore_best_weights=True)\n",
        "\n",
        "history = model2.fit(train_seq, train_target, epochs=100, batch_size=64,\n",
        "                     validation_data=(val_seq, val_target),\n",
        "                     callbacks=[checkpoint_cb, early_stopping_cb])"
      ],
      "execution_count": null,
      "outputs": [
        {
          "output_type": "stream",
          "text": [
            "Epoch 1/100\n",
            "313/313 [==============================] - 9s 21ms/step - loss: 0.6929 - accuracy: 0.5147 - val_loss: 0.6927 - val_accuracy: 0.5338\n",
            "Epoch 2/100\n",
            "313/313 [==============================] - 6s 19ms/step - loss: 0.6918 - accuracy: 0.5716 - val_loss: 0.6911 - val_accuracy: 0.5994\n",
            "Epoch 3/100\n",
            "313/313 [==============================] - 6s 20ms/step - loss: 0.6887 - accuracy: 0.6428 - val_loss: 0.6851 - val_accuracy: 0.6766\n",
            "Epoch 4/100\n",
            "313/313 [==============================] - 6s 19ms/step - loss: 0.6666 - accuracy: 0.6772 - val_loss: 0.6351 - val_accuracy: 0.7054\n",
            "Epoch 5/100\n",
            "313/313 [==============================] - 6s 19ms/step - loss: 0.6195 - accuracy: 0.6981 - val_loss: 0.6059 - val_accuracy: 0.7084\n",
            "Epoch 6/100\n",
            "313/313 [==============================] - 6s 20ms/step - loss: 0.5951 - accuracy: 0.7171 - val_loss: 0.5846 - val_accuracy: 0.7296\n",
            "Epoch 7/100\n",
            "313/313 [==============================] - 6s 19ms/step - loss: 0.5743 - accuracy: 0.7350 - val_loss: 0.5613 - val_accuracy: 0.7536\n",
            "Epoch 8/100\n",
            "313/313 [==============================] - 6s 20ms/step - loss: 0.5547 - accuracy: 0.7497 - val_loss: 0.5425 - val_accuracy: 0.7654\n",
            "Epoch 9/100\n",
            "313/313 [==============================] - 6s 20ms/step - loss: 0.5372 - accuracy: 0.7598 - val_loss: 0.5290 - val_accuracy: 0.7686\n",
            "Epoch 10/100\n",
            "313/313 [==============================] - 6s 20ms/step - loss: 0.5233 - accuracy: 0.7668 - val_loss: 0.5154 - val_accuracy: 0.7754\n",
            "Epoch 11/100\n",
            "313/313 [==============================] - 6s 20ms/step - loss: 0.5081 - accuracy: 0.7761 - val_loss: 0.5050 - val_accuracy: 0.7744\n",
            "Epoch 12/100\n",
            "313/313 [==============================] - 6s 20ms/step - loss: 0.4987 - accuracy: 0.7776 - val_loss: 0.4984 - val_accuracy: 0.7770\n",
            "Epoch 13/100\n",
            "313/313 [==============================] - 6s 20ms/step - loss: 0.4915 - accuracy: 0.7801 - val_loss: 0.4893 - val_accuracy: 0.7818\n",
            "Epoch 14/100\n",
            "313/313 [==============================] - 6s 20ms/step - loss: 0.4838 - accuracy: 0.7839 - val_loss: 0.4855 - val_accuracy: 0.7772\n",
            "Epoch 15/100\n",
            "313/313 [==============================] - 6s 20ms/step - loss: 0.4756 - accuracy: 0.7878 - val_loss: 0.4775 - val_accuracy: 0.7850\n",
            "Epoch 16/100\n",
            "313/313 [==============================] - 6s 19ms/step - loss: 0.4694 - accuracy: 0.7896 - val_loss: 0.4735 - val_accuracy: 0.7848\n",
            "Epoch 17/100\n",
            "313/313 [==============================] - 6s 19ms/step - loss: 0.4650 - accuracy: 0.7925 - val_loss: 0.4677 - val_accuracy: 0.7870\n",
            "Epoch 18/100\n",
            "313/313 [==============================] - 6s 19ms/step - loss: 0.4597 - accuracy: 0.7929 - val_loss: 0.4669 - val_accuracy: 0.7844\n",
            "Epoch 19/100\n",
            "313/313 [==============================] - 6s 19ms/step - loss: 0.4513 - accuracy: 0.7996 - val_loss: 0.4606 - val_accuracy: 0.7886\n",
            "Epoch 20/100\n",
            "313/313 [==============================] - 6s 20ms/step - loss: 0.4498 - accuracy: 0.7994 - val_loss: 0.4576 - val_accuracy: 0.7904\n",
            "Epoch 21/100\n",
            "313/313 [==============================] - 6s 19ms/step - loss: 0.4450 - accuracy: 0.8013 - val_loss: 0.4552 - val_accuracy: 0.7910\n",
            "Epoch 22/100\n",
            "313/313 [==============================] - 6s 20ms/step - loss: 0.4435 - accuracy: 0.8000 - val_loss: 0.4512 - val_accuracy: 0.7932\n",
            "Epoch 23/100\n",
            "313/313 [==============================] - 6s 20ms/step - loss: 0.4398 - accuracy: 0.8022 - val_loss: 0.4486 - val_accuracy: 0.7956\n",
            "Epoch 24/100\n",
            "313/313 [==============================] - 6s 20ms/step - loss: 0.4385 - accuracy: 0.8027 - val_loss: 0.4479 - val_accuracy: 0.7956\n",
            "Epoch 25/100\n",
            "313/313 [==============================] - 6s 19ms/step - loss: 0.4348 - accuracy: 0.8035 - val_loss: 0.4462 - val_accuracy: 0.7918\n",
            "Epoch 26/100\n",
            "313/313 [==============================] - 6s 19ms/step - loss: 0.4332 - accuracy: 0.8019 - val_loss: 0.4435 - val_accuracy: 0.7976\n",
            "Epoch 27/100\n",
            "313/313 [==============================] - 6s 19ms/step - loss: 0.4279 - accuracy: 0.8079 - val_loss: 0.4417 - val_accuracy: 0.7946\n",
            "Epoch 28/100\n",
            "313/313 [==============================] - 6s 20ms/step - loss: 0.4280 - accuracy: 0.8065 - val_loss: 0.4425 - val_accuracy: 0.7930\n",
            "Epoch 29/100\n",
            "313/313 [==============================] - 6s 20ms/step - loss: 0.4271 - accuracy: 0.8069 - val_loss: 0.4382 - val_accuracy: 0.8004\n",
            "Epoch 30/100\n",
            "313/313 [==============================] - 6s 20ms/step - loss: 0.4247 - accuracy: 0.8076 - val_loss: 0.4379 - val_accuracy: 0.7984\n",
            "Epoch 31/100\n",
            "313/313 [==============================] - 6s 20ms/step - loss: 0.4247 - accuracy: 0.8080 - val_loss: 0.4353 - val_accuracy: 0.8004\n",
            "Epoch 32/100\n",
            "313/313 [==============================] - 6s 20ms/step - loss: 0.4242 - accuracy: 0.8091 - val_loss: 0.4347 - val_accuracy: 0.7988\n",
            "Epoch 33/100\n",
            "313/313 [==============================] - 6s 20ms/step - loss: 0.4210 - accuracy: 0.8094 - val_loss: 0.4340 - val_accuracy: 0.7972\n",
            "Epoch 34/100\n",
            "313/313 [==============================] - 6s 20ms/step - loss: 0.4188 - accuracy: 0.8111 - val_loss: 0.4346 - val_accuracy: 0.8018\n",
            "Epoch 35/100\n",
            "313/313 [==============================] - 6s 20ms/step - loss: 0.4192 - accuracy: 0.8102 - val_loss: 0.4341 - val_accuracy: 0.8022\n",
            "Epoch 36/100\n",
            "313/313 [==============================] - 6s 20ms/step - loss: 0.4163 - accuracy: 0.8099 - val_loss: 0.4342 - val_accuracy: 0.7970\n"
          ],
          "name": "stdout"
        }
      ]
    },
    {
      "cell_type": "code",
      "metadata": {
        "execution": {
          "iopub.execute_input": "2020-10-12T09:13:59.466740Z",
          "iopub.status.busy": "2020-10-12T09:13:59.465154Z",
          "iopub.status.idle": "2020-10-12T09:14:00.055101Z",
          "shell.execute_reply": "2020-10-12T09:14:00.056561Z"
        },
        "id": "Qzwsp3pl6k2R",
        "colab": {
          "base_uri": "https://localhost:8080/",
          "height": 279
        },
        "outputId": "97305973-3c11-4c55-c466-a608273094cb"
      },
      "source": [
        "plt.plot(history.history['loss'])\n",
        "plt.plot(history.history['val_loss'])\n",
        "plt.xlabel('epoch')\n",
        "plt.ylabel('loss')\n",
        "plt.legend(['train', 'val'])\n",
        "plt.show()"
      ],
      "execution_count": null,
      "outputs": [
        {
          "output_type": "display_data",
          "data": {
            "image/png": "[encoded data removed]",
            "text/plain": [
              "<Figure size 432x288 with 1 Axes>"
            ]
          },
          "metadata": {
            "tags": [],
            "needs_background": "light"
          }
        }
      ]
    },
    {
      "cell_type": "markdown",
      "metadata": {
        "id": "DKtQByM96k2S"
      },
      "source": [
        "### 2개의 층을 연결하기"
      ]
    },
    {
      "cell_type": "code",
      "metadata": {
        "execution": {
          "iopub.execute_input": "2020-10-12T09:14:00.069924Z",
          "iopub.status.busy": "2020-10-12T09:14:00.068581Z",
          "iopub.status.idle": "2020-10-12T09:14:00.459073Z",
          "shell.execute_reply": "2020-10-12T09:14:00.460006Z"
        },
        "id": "YkQboCpD6k2S",
        "colab": {
          "base_uri": "https://localhost:8080/"
        },
        "outputId": "5f30a5ec-16a9-476a-95b6-3d55b36b64b4"
      },
      "source": [
        "model3 = keras.Sequential()\n",
        "\n",
        "model3.add(keras.layers.Embedding(500, 16, input_length=100))\n",
        "model3.add(keras.layers.LSTM(8, dropout=0.3, return_sequences=True))\n",
        "model3.add(keras.layers.LSTM(8, dropout=0.3))\n",
        "model3.add(keras.layers.Dense(1, activation='sigmoid'))\n",
        "\n",
        "model3.summary()"
      ],
      "execution_count": null,
      "outputs": [
        {
          "output_type": "stream",
          "text": [
            "Model: \"sequential_2\"\n",
            "_________________________________________________________________\n",
            "Layer (type)                 Output Shape              Param #   \n",
            "=================================================================\n",
            "embedding_2 (Embedding)      (None, 100, 16)           8000      \n",
            "_________________________________________________________________\n",
            "lstm_2 (LSTM)                (None, 100, 8)            800       \n",
            "_________________________________________________________________\n",
            "lstm_3 (LSTM)                (None, 8)                 544       \n",
            "_________________________________________________________________\n",
            "dense_2 (Dense)              (None, 1)                 9         \n",
            "=================================================================\n",
            "Total params: 9,353\n",
            "Trainable params: 9,353\n",
            "Non-trainable params: 0\n",
            "_________________________________________________________________\n"
          ],
          "name": "stdout"
        }
      ]
    },
    {
      "cell_type": "code",
      "metadata": {
        "execution": {
          "iopub.execute_input": "2020-10-12T09:14:00.485178Z",
          "iopub.status.busy": "2020-10-12T09:14:00.483959Z",
          "iopub.status.idle": "2020-10-12T09:20:24.570047Z",
          "shell.execute_reply": "2020-10-12T09:20:24.571421Z"
        },
        "id": "hDk_ffAo6k2S",
        "colab": {
          "base_uri": "https://localhost:8080/"
        },
        "outputId": "f7439e48-073f-4124-b10e-dea60f18f69d"
      },
      "source": [
        "rmsprop = keras.optimizers.RMSprop(learning_rate=1e-4)\n",
        "model3.compile(optimizer=rmsprop, loss='binary_crossentropy', \n",
        "               metrics=['accuracy'])\n",
        "\n",
        "checkpoint_cb = keras.callbacks.ModelCheckpoint('best-2rnn-model.h5', \n",
        "                                                save_best_only=True)\n",
        "early_stopping_cb = keras.callbacks.EarlyStopping(patience=3,\n",
        "                                                  restore_best_weights=True)\n",
        "\n",
        "history = model3.fit(train_seq, train_target, epochs=100, batch_size=64,\n",
        "                     validation_data=(val_seq, val_target),\n",
        "                     callbacks=[checkpoint_cb, early_stopping_cb])"
      ],
      "execution_count": null,
      "outputs": [
        {
          "output_type": "stream",
          "text": [
            "Epoch 1/100\n",
            "313/313 [==============================] - 17s 43ms/step - loss: 0.6927 - accuracy: 0.5375 - val_loss: 0.6921 - val_accuracy: 0.5916\n",
            "Epoch 2/100\n",
            "313/313 [==============================] - 13s 41ms/step - loss: 0.6900 - accuracy: 0.5748 - val_loss: 0.6862 - val_accuracy: 0.6402\n",
            "Epoch 3/100\n",
            "313/313 [==============================] - 13s 41ms/step - loss: 0.6643 - accuracy: 0.6443 - val_loss: 0.6234 - val_accuracy: 0.6786\n",
            "Epoch 4/100\n",
            "313/313 [==============================] - 13s 40ms/step - loss: 0.5833 - accuracy: 0.7151 - val_loss: 0.5522 - val_accuracy: 0.7318\n",
            "Epoch 5/100\n",
            "313/313 [==============================] - 13s 41ms/step - loss: 0.5374 - accuracy: 0.7417 - val_loss: 0.5187 - val_accuracy: 0.7554\n",
            "Epoch 6/100\n",
            "313/313 [==============================] - 13s 41ms/step - loss: 0.5097 - accuracy: 0.7574 - val_loss: 0.4940 - val_accuracy: 0.7682\n",
            "Epoch 7/100\n",
            "313/313 [==============================] - 13s 40ms/step - loss: 0.4920 - accuracy: 0.7671 - val_loss: 0.4819 - val_accuracy: 0.7702\n",
            "Epoch 8/100\n",
            "313/313 [==============================] - 13s 40ms/step - loss: 0.4755 - accuracy: 0.7766 - val_loss: 0.4670 - val_accuracy: 0.7842\n",
            "Epoch 9/100\n",
            "313/313 [==============================] - 13s 40ms/step - loss: 0.4687 - accuracy: 0.7817 - val_loss: 0.4599 - val_accuracy: 0.7884\n",
            "Epoch 10/100\n",
            "313/313 [==============================] - 13s 40ms/step - loss: 0.4610 - accuracy: 0.7872 - val_loss: 0.4567 - val_accuracy: 0.7892\n",
            "Epoch 11/100\n",
            "313/313 [==============================] - 13s 41ms/step - loss: 0.4567 - accuracy: 0.7897 - val_loss: 0.4517 - val_accuracy: 0.7910\n",
            "Epoch 12/100\n",
            "313/313 [==============================] - 13s 41ms/step - loss: 0.4525 - accuracy: 0.7911 - val_loss: 0.4527 - val_accuracy: 0.7866\n",
            "Epoch 13/100\n",
            "313/313 [==============================] - 13s 41ms/step - loss: 0.4482 - accuracy: 0.7917 - val_loss: 0.4503 - val_accuracy: 0.7922\n",
            "Epoch 14/100\n",
            "313/313 [==============================] - 13s 40ms/step - loss: 0.4463 - accuracy: 0.7938 - val_loss: 0.4472 - val_accuracy: 0.7926\n",
            "Epoch 15/100\n",
            "313/313 [==============================] - 13s 40ms/step - loss: 0.4458 - accuracy: 0.7936 - val_loss: 0.4470 - val_accuracy: 0.7914\n",
            "Epoch 16/100\n",
            "313/313 [==============================] - 13s 41ms/step - loss: 0.4421 - accuracy: 0.7921 - val_loss: 0.4480 - val_accuracy: 0.7908\n",
            "Epoch 17/100\n",
            "313/313 [==============================] - 13s 41ms/step - loss: 0.4399 - accuracy: 0.7969 - val_loss: 0.4429 - val_accuracy: 0.7944\n",
            "Epoch 18/100\n",
            "313/313 [==============================] - 13s 41ms/step - loss: 0.4392 - accuracy: 0.7976 - val_loss: 0.4415 - val_accuracy: 0.7954\n",
            "Epoch 19/100\n",
            "313/313 [==============================] - 13s 41ms/step - loss: 0.4383 - accuracy: 0.7965 - val_loss: 0.4503 - val_accuracy: 0.7870\n",
            "Epoch 20/100\n",
            "313/313 [==============================] - 13s 40ms/step - loss: 0.4340 - accuracy: 0.8012 - val_loss: 0.4407 - val_accuracy: 0.7914\n",
            "Epoch 21/100\n",
            "313/313 [==============================] - 13s 41ms/step - loss: 0.4355 - accuracy: 0.7967 - val_loss: 0.4406 - val_accuracy: 0.7918\n",
            "Epoch 22/100\n",
            "313/313 [==============================] - 13s 41ms/step - loss: 0.4327 - accuracy: 0.8001 - val_loss: 0.4396 - val_accuracy: 0.7918\n",
            "Epoch 23/100\n",
            "313/313 [==============================] - 13s 41ms/step - loss: 0.4306 - accuracy: 0.8014 - val_loss: 0.4448 - val_accuracy: 0.7878\n",
            "Epoch 24/100\n",
            "313/313 [==============================] - 13s 41ms/step - loss: 0.4308 - accuracy: 0.8009 - val_loss: 0.4407 - val_accuracy: 0.7986\n",
            "Epoch 25/100\n",
            "313/313 [==============================] - 13s 41ms/step - loss: 0.4292 - accuracy: 0.8022 - val_loss: 0.4375 - val_accuracy: 0.7972\n",
            "Epoch 26/100\n",
            "313/313 [==============================] - 13s 40ms/step - loss: 0.4274 - accuracy: 0.8044 - val_loss: 0.4375 - val_accuracy: 0.7988\n",
            "Epoch 27/100\n",
            "313/313 [==============================] - 13s 41ms/step - loss: 0.4283 - accuracy: 0.8022 - val_loss: 0.4369 - val_accuracy: 0.8002\n",
            "Epoch 28/100\n",
            "313/313 [==============================] - 13s 41ms/step - loss: 0.4271 - accuracy: 0.8026 - val_loss: 0.4360 - val_accuracy: 0.7952\n",
            "Epoch 29/100\n",
            "313/313 [==============================] - 13s 40ms/step - loss: 0.4263 - accuracy: 0.8048 - val_loss: 0.4380 - val_accuracy: 0.8014\n",
            "Epoch 30/100\n",
            "313/313 [==============================] - 13s 40ms/step - loss: 0.4259 - accuracy: 0.8056 - val_loss: 0.4356 - val_accuracy: 0.7980\n",
            "Epoch 31/100\n",
            "313/313 [==============================] - 13s 41ms/step - loss: 0.4244 - accuracy: 0.8043 - val_loss: 0.4365 - val_accuracy: 0.8016\n",
            "Epoch 32/100\n",
            "313/313 [==============================] - 13s 41ms/step - loss: 0.4233 - accuracy: 0.8050 - val_loss: 0.4351 - val_accuracy: 0.7978\n",
            "Epoch 33/100\n",
            "313/313 [==============================] - 13s 41ms/step - loss: 0.4216 - accuracy: 0.8068 - val_loss: 0.4350 - val_accuracy: 0.7976\n",
            "Epoch 34/100\n",
            "313/313 [==============================] - 13s 41ms/step - loss: 0.4232 - accuracy: 0.8043 - val_loss: 0.4375 - val_accuracy: 0.7996\n",
            "Epoch 35/100\n",
            "313/313 [==============================] - 13s 41ms/step - loss: 0.4213 - accuracy: 0.8059 - val_loss: 0.4378 - val_accuracy: 0.7994\n",
            "Epoch 36/100\n",
            "313/313 [==============================] - 13s 40ms/step - loss: 0.4209 - accuracy: 0.8080 - val_loss: 0.4421 - val_accuracy: 0.7996\n"
          ],
          "name": "stdout"
        }
      ]
    },
    {
      "cell_type": "code",
      "metadata": {
        "execution": {
          "iopub.execute_input": "2020-10-12T09:20:24.599872Z",
          "iopub.status.busy": "2020-10-12T09:20:24.598716Z",
          "iopub.status.idle": "2020-10-12T09:20:25.172291Z",
          "shell.execute_reply": "2020-10-12T09:20:25.173681Z"
        },
        "id": "1paBqczf6k2S",
        "colab": {
          "base_uri": "https://localhost:8080/",
          "height": 279
        },
        "outputId": "8dec69f9-2aa3-4b2f-f5c9-c0d2713ab4f6"
      },
      "source": [
        "plt.plot(history.history['loss'])\n",
        "plt.plot(history.history['val_loss'])\n",
        "plt.xlabel('epoch')\n",
        "plt.ylabel('loss')\n",
        "plt.legend(['train', 'val'])\n",
        "plt.show()"
      ],
      "execution_count": null,
      "outputs": [
        {
          "output_type": "display_data",
          "data": {
            "image/png": "[encoded data removed]",
            "text/plain": [
              "<Figure size 432x288 with 1 Axes>"
            ]
          },
          "metadata": {
            "tags": [],
            "needs_background": "light"
          }
        }
      ]
    },
    {
      "cell_type": "markdown",
      "metadata": {
        "id": "Jisn0P9h6k2T"
      },
      "source": [
        "### GRU 신경망 훈련하기"
      ]
    },
    {
      "cell_type": "code",
      "metadata": {
        "execution": {
          "iopub.execute_input": "2020-10-12T09:20:25.189832Z",
          "iopub.status.busy": "2020-10-12T09:20:25.188004Z",
          "iopub.status.idle": "2020-10-12T09:20:25.402624Z",
          "shell.execute_reply": "2020-10-12T09:20:25.401128Z"
        },
        "id": "dwYF578d6k2T",
        "colab": {
          "base_uri": "https://localhost:8080/"
        },
        "outputId": "72677151-359c-4d9c-9fd0-026c778f4ad5"
      },
      "source": [
        "model4 = keras.Sequential()\n",
        "\n",
        "model4.add(keras.layers.Embedding(500, 16, input_length=100))\n",
        "model4.add(keras.layers.GRU(8))\n",
        "model4.add(keras.layers.Dense(1, activation='sigmoid'))\n",
        "\n",
        "model4.summary()"
      ],
      "execution_count": null,
      "outputs": [
        {
          "output_type": "stream",
          "text": [
            "Model: \"sequential_3\"\n",
            "_________________________________________________________________\n",
            "Layer (type)                 Output Shape              Param #   \n",
            "=================================================================\n",
            "embedding_3 (Embedding)      (None, 100, 16)           8000      \n",
            "_________________________________________________________________\n",
            "gru (GRU)                    (None, 8)                 624       \n",
            "_________________________________________________________________\n",
            "dense_3 (Dense)              (None, 1)                 9         \n",
            "=================================================================\n",
            "Total params: 8,633\n",
            "Trainable params: 8,633\n",
            "Non-trainable params: 0\n",
            "_________________________________________________________________\n"
          ],
          "name": "stdout"
        }
      ]
    },
    {
      "cell_type": "code",
      "metadata": {
        "execution": {
          "iopub.execute_input": "2020-10-12T09:20:25.420177Z",
          "iopub.status.busy": "2020-10-12T09:20:25.419630Z",
          "iopub.status.idle": "2020-10-12T09:25:10.574200Z",
          "shell.execute_reply": "2020-10-12T09:25:10.575704Z"
        },
        "id": "j2SfOZ3v6k2U",
        "colab": {
          "base_uri": "https://localhost:8080/"
        },
        "outputId": "80bc83ae-1472-4c03-f372-92a6572e71b8"
      },
      "source": [
        "rmsprop = keras.optimizers.RMSprop(learning_rate=1e-4)\n",
        "model4.compile(optimizer=rmsprop, loss='binary_crossentropy', \n",
        "               metrics=['accuracy'])\n",
        "\n",
        "checkpoint_cb = keras.callbacks.ModelCheckpoint('best-gru-model.h5', \n",
        "                                                save_best_only=True)\n",
        "early_stopping_cb = keras.callbacks.EarlyStopping(patience=3,\n",
        "                                                  restore_best_weights=True)\n",
        "\n",
        "history = model4.fit(train_seq, train_target, epochs=100, batch_size=64,\n",
        "                     validation_data=(val_seq, val_target),\n",
        "                     callbacks=[checkpoint_cb, early_stopping_cb])"
      ],
      "execution_count": null,
      "outputs": [
        {
          "output_type": "stream",
          "text": [
            "Epoch 1/100\n",
            "313/313 [==============================] - 9s 21ms/step - loss: 0.6924 - accuracy: 0.5174 - val_loss: 0.6914 - val_accuracy: 0.5478\n",
            "Epoch 2/100\n",
            "313/313 [==============================] - 6s 19ms/step - loss: 0.6903 - accuracy: 0.5601 - val_loss: 0.6892 - val_accuracy: 0.5740\n",
            "Epoch 3/100\n",
            "313/313 [==============================] - 6s 19ms/step - loss: 0.6871 - accuracy: 0.5849 - val_loss: 0.6855 - val_accuracy: 0.5888\n",
            "Epoch 4/100\n",
            "313/313 [==============================] - 6s 19ms/step - loss: 0.6820 - accuracy: 0.6039 - val_loss: 0.6799 - val_accuracy: 0.5948\n",
            "Epoch 5/100\n",
            "313/313 [==============================] - 6s 19ms/step - loss: 0.6744 - accuracy: 0.6191 - val_loss: 0.6713 - val_accuracy: 0.6132\n",
            "Epoch 6/100\n",
            "313/313 [==============================] - 6s 19ms/step - loss: 0.6629 - accuracy: 0.6321 - val_loss: 0.6589 - val_accuracy: 0.6248\n",
            "Epoch 7/100\n",
            "313/313 [==============================] - 6s 19ms/step - loss: 0.6457 - accuracy: 0.6491 - val_loss: 0.6391 - val_accuracy: 0.6458\n",
            "Epoch 8/100\n",
            "313/313 [==============================] - 6s 19ms/step - loss: 0.6188 - accuracy: 0.6726 - val_loss: 0.6072 - val_accuracy: 0.6786\n",
            "Epoch 9/100\n",
            "313/313 [==============================] - 6s 19ms/step - loss: 0.5720 - accuracy: 0.7079 - val_loss: 0.5599 - val_accuracy: 0.7192\n",
            "Epoch 10/100\n",
            "313/313 [==============================] - 6s 19ms/step - loss: 0.5303 - accuracy: 0.7366 - val_loss: 0.5295 - val_accuracy: 0.7416\n",
            "Epoch 11/100\n",
            "313/313 [==============================] - 6s 19ms/step - loss: 0.5077 - accuracy: 0.7544 - val_loss: 0.5158 - val_accuracy: 0.7490\n",
            "Epoch 12/100\n",
            "313/313 [==============================] - 6s 19ms/step - loss: 0.4949 - accuracy: 0.7640 - val_loss: 0.5056 - val_accuracy: 0.7594\n",
            "Epoch 13/100\n",
            "313/313 [==============================] - 6s 19ms/step - loss: 0.4849 - accuracy: 0.7713 - val_loss: 0.4966 - val_accuracy: 0.7642\n",
            "Epoch 14/100\n",
            "313/313 [==============================] - 6s 20ms/step - loss: 0.4763 - accuracy: 0.7759 - val_loss: 0.4909 - val_accuracy: 0.7634\n",
            "Epoch 15/100\n",
            "313/313 [==============================] - 6s 20ms/step - loss: 0.4683 - accuracy: 0.7814 - val_loss: 0.4846 - val_accuracy: 0.7686\n",
            "Epoch 16/100\n",
            "313/313 [==============================] - 6s 20ms/step - loss: 0.4618 - accuracy: 0.7863 - val_loss: 0.4752 - val_accuracy: 0.7768\n",
            "Epoch 17/100\n",
            "313/313 [==============================] - 6s 20ms/step - loss: 0.4560 - accuracy: 0.7898 - val_loss: 0.4714 - val_accuracy: 0.7828\n",
            "Epoch 18/100\n",
            "313/313 [==============================] - 6s 20ms/step - loss: 0.4509 - accuracy: 0.7929 - val_loss: 0.4661 - val_accuracy: 0.7834\n",
            "Epoch 19/100\n",
            "313/313 [==============================] - 6s 20ms/step - loss: 0.4461 - accuracy: 0.7973 - val_loss: 0.4634 - val_accuracy: 0.7838\n",
            "Epoch 20/100\n",
            "313/313 [==============================] - 6s 20ms/step - loss: 0.4424 - accuracy: 0.7978 - val_loss: 0.4599 - val_accuracy: 0.7812\n",
            "Epoch 21/100\n",
            "313/313 [==============================] - 6s 20ms/step - loss: 0.4391 - accuracy: 0.8008 - val_loss: 0.4563 - val_accuracy: 0.7866\n",
            "Epoch 22/100\n",
            "313/313 [==============================] - 6s 20ms/step - loss: 0.4360 - accuracy: 0.8035 - val_loss: 0.4549 - val_accuracy: 0.7844\n",
            "Epoch 23/100\n",
            "313/313 [==============================] - 6s 20ms/step - loss: 0.4332 - accuracy: 0.8047 - val_loss: 0.4545 - val_accuracy: 0.7842\n",
            "Epoch 24/100\n",
            "313/313 [==============================] - 6s 20ms/step - loss: 0.4315 - accuracy: 0.8056 - val_loss: 0.4513 - val_accuracy: 0.7882\n",
            "Epoch 25/100\n",
            "313/313 [==============================] - 6s 20ms/step - loss: 0.4293 - accuracy: 0.8059 - val_loss: 0.4574 - val_accuracy: 0.7802\n",
            "Epoch 26/100\n",
            "313/313 [==============================] - 6s 19ms/step - loss: 0.4275 - accuracy: 0.8064 - val_loss: 0.4491 - val_accuracy: 0.7914\n",
            "Epoch 27/100\n",
            "313/313 [==============================] - 6s 19ms/step - loss: 0.4259 - accuracy: 0.8074 - val_loss: 0.4501 - val_accuracy: 0.7926\n",
            "Epoch 28/100\n",
            "313/313 [==============================] - 6s 19ms/step - loss: 0.4240 - accuracy: 0.8106 - val_loss: 0.4528 - val_accuracy: 0.7934\n",
            "Epoch 29/100\n",
            "313/313 [==============================] - 6s 20ms/step - loss: 0.4227 - accuracy: 0.8102 - val_loss: 0.4474 - val_accuracy: 0.7926\n",
            "Epoch 30/100\n",
            "313/313 [==============================] - 6s 19ms/step - loss: 0.4220 - accuracy: 0.8119 - val_loss: 0.4472 - val_accuracy: 0.7902\n",
            "Epoch 31/100\n",
            "313/313 [==============================] - 6s 19ms/step - loss: 0.4204 - accuracy: 0.8122 - val_loss: 0.4464 - val_accuracy: 0.7910\n",
            "Epoch 32/100\n",
            "313/313 [==============================] - 6s 20ms/step - loss: 0.4196 - accuracy: 0.8124 - val_loss: 0.4450 - val_accuracy: 0.7930\n",
            "Epoch 33/100\n",
            "313/313 [==============================] - 6s 19ms/step - loss: 0.4188 - accuracy: 0.8135 - val_loss: 0.4449 - val_accuracy: 0.7924\n",
            "Epoch 34/100\n",
            "313/313 [==============================] - 6s 20ms/step - loss: 0.4179 - accuracy: 0.8131 - val_loss: 0.4445 - val_accuracy: 0.7922\n",
            "Epoch 35/100\n",
            "313/313 [==============================] - 6s 19ms/step - loss: 0.4173 - accuracy: 0.8159 - val_loss: 0.4433 - val_accuracy: 0.7928\n",
            "Epoch 36/100\n",
            "313/313 [==============================] - 6s 19ms/step - loss: 0.4164 - accuracy: 0.8155 - val_loss: 0.4424 - val_accuracy: 0.7970\n",
            "Epoch 37/100\n",
            "313/313 [==============================] - 6s 20ms/step - loss: 0.4157 - accuracy: 0.8155 - val_loss: 0.4422 - val_accuracy: 0.7958\n",
            "Epoch 38/100\n",
            "313/313 [==============================] - 6s 20ms/step - loss: 0.4154 - accuracy: 0.8149 - val_loss: 0.4423 - val_accuracy: 0.7966\n",
            "Epoch 39/100\n",
            "313/313 [==============================] - 6s 20ms/step - loss: 0.4148 - accuracy: 0.8156 - val_loss: 0.4416 - val_accuracy: 0.7970\n",
            "Epoch 40/100\n",
            "313/313 [==============================] - 6s 19ms/step - loss: 0.4142 - accuracy: 0.8163 - val_loss: 0.4440 - val_accuracy: 0.7914\n",
            "Epoch 41/100\n",
            "313/313 [==============================] - 6s 19ms/step - loss: 0.4136 - accuracy: 0.8173 - val_loss: 0.4409 - val_accuracy: 0.7948\n",
            "Epoch 42/100\n",
            "313/313 [==============================] - 6s 20ms/step - loss: 0.4132 - accuracy: 0.8148 - val_loss: 0.4407 - val_accuracy: 0.7954\n",
            "Epoch 43/100\n",
            "313/313 [==============================] - 6s 19ms/step - loss: 0.4128 - accuracy: 0.8162 - val_loss: 0.4399 - val_accuracy: 0.7956\n",
            "Epoch 44/100\n",
            "313/313 [==============================] - 6s 19ms/step - loss: 0.4121 - accuracy: 0.8170 - val_loss: 0.4437 - val_accuracy: 0.7946\n",
            "Epoch 45/100\n",
            "313/313 [==============================] - 6s 19ms/step - loss: 0.4116 - accuracy: 0.8180 - val_loss: 0.4397 - val_accuracy: 0.7954\n",
            "Epoch 46/100\n",
            "313/313 [==============================] - 6s 19ms/step - loss: 0.4116 - accuracy: 0.8166 - val_loss: 0.4387 - val_accuracy: 0.7976\n",
            "Epoch 47/100\n",
            "313/313 [==============================] - 6s 19ms/step - loss: 0.4110 - accuracy: 0.8171 - val_loss: 0.4406 - val_accuracy: 0.7966\n",
            "Epoch 48/100\n",
            "313/313 [==============================] - 6s 19ms/step - loss: 0.4104 - accuracy: 0.8174 - val_loss: 0.4491 - val_accuracy: 0.7920\n",
            "Epoch 49/100\n",
            "313/313 [==============================] - 6s 19ms/step - loss: 0.4103 - accuracy: 0.8183 - val_loss: 0.4427 - val_accuracy: 0.7924\n"
          ],
          "name": "stdout"
        }
      ]
    },
    {
      "cell_type": "code",
      "metadata": {
        "execution": {
          "iopub.execute_input": "2020-10-12T09:25:10.602797Z",
          "iopub.status.busy": "2020-10-12T09:25:10.601459Z",
          "iopub.status.idle": "2020-10-12T09:25:11.203520Z",
          "shell.execute_reply": "2020-10-12T09:25:11.202193Z"
        },
        "id": "3yUJM4nA6k2U",
        "colab": {
          "base_uri": "https://localhost:8080/",
          "height": 279
        },
        "outputId": "cf86c235-1135-4d0f-93c2-08b7cb98ead7"
      },
      "source": [
        "plt.plot(history.history['loss'])\n",
        "plt.plot(history.history['val_loss'])\n",
        "plt.xlabel('epoch')\n",
        "plt.ylabel('loss')\n",
        "plt.legend(['train', 'val'])\n",
        "plt.show()"
      ],
      "execution_count": null,
      "outputs": [
        {
          "output_type": "display_data",
          "data": {
            "image/png": "[encoded data removed]",
            "text/plain": [
              "<Figure size 432x288 with 1 Axes>"
            ]
          },
          "metadata": {
            "tags": [],
            "needs_background": "light"
          }
        }
      ]
    },
    {
      "cell_type": "markdown",
      "metadata": {
        "id": "Ja3-116b6k2V"
      },
      "source": [
        "### 마무리"
      ]
    },
    {
      "cell_type": "code",
      "metadata": {
        "id": "-5WtFRN-6k2V",
        "colab": {
          "base_uri": "https://localhost:8080/"
        },
        "outputId": "dbbf3f1d-3cd9-49cf-bf90-233ecac13134"
      },
      "source": [
        "test_seq = pad_sequences(test_input, maxlen=100)\n",
        "\n",
        "rnn_model = keras.models.load_model('best-2rnn-model.h5')\n",
        "\n",
        "rnn_model.evaluate(test_seq, test_target)"
      ],
      "execution_count": null,
      "outputs": [
        {
          "output_type": "stream",
          "text": [
            "782/782 [==============================] - 12s 15ms/step - loss: 0.4291 - accuracy: 0.8004\n"
          ],
          "name": "stdout"
        },
        {
          "output_type": "execute_result",
          "data": {
            "text/plain": [
              "[0.4291330873966217, 0.8004400134086609]"
            ]
          },
          "metadata": {
            "tags": []
          },
          "execution_count": 15
        }
      ]
    }
  ]
}